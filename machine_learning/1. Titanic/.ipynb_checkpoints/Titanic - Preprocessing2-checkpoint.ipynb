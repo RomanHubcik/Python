{
 "cells": [
  {
   "cell_type": "code",
   "execution_count": 509,
   "id": "a08b1758",
   "metadata": {},
   "outputs": [],
   "source": [
    "import pandas as pd\n",
    "import numpy as np\n",
    "from sklearn import preprocessing\n",
    "from sklearn.preprocessing import StandardScaler"
   ]
  },
  {
   "cell_type": "code",
   "execution_count": 510,
   "id": "1f39462c",
   "metadata": {},
   "outputs": [],
   "source": [
    "# load dataset\n",
    "df_train = pd.read_csv('titanic_train_data.csv')"
   ]
  },
  {
   "cell_type": "code",
   "execution_count": 511,
   "id": "4f453317",
   "metadata": {},
   "outputs": [],
   "source": [
    "#df_train['Age'].isnull().sum()\n",
    "df_train.isnull().sum()"
   ]
  },
  {
   "cell_type": "code",
   "execution_count": 512,
   "id": "2d9e05a8",
   "metadata": {},
   "outputs": [],
   "source": [
    "df_train.drop(['PassengerId', 'Ticket', 'Cabin'],axis=1,inplace=True)\n",
    "df_train"
   ]
  },
  {
   "cell_type": "code",
   "execution_count": 513,
   "id": "305c99a6",
   "metadata": {},
   "outputs": [],
   "source": [
    "# Fill the missing values of Age\n",
    "df_train['Age'].fillna(df_train['Age'].mean(), inplace=True)  #fill n/a age with mean value\n",
    "\n",
    "common_value = 'S'\n",
    "df_train['Embarked'] = df_train['Embarked'].fillna(common_value)\n",
    "\n",
    "df_train\n",
    "\n",
    "# # create Age categories\n",
    "# def age_type(age):\n",
    "#     if age>0 and age<=5:\n",
    "#         return 'baby'\n",
    "#     elif(age>=6 and age<=10):\n",
    "#         return 'child'\n",
    "#     elif(age>=11 and age<=19):\n",
    "#         return 'teenager'\n",
    "#     elif(age>=20 and age<=30):\n",
    "#         return 'early adult'\n",
    "#     elif(age>=31 and age<=45):\n",
    "#         return 'adult'\n",
    "#     elif(age>=46 and age<=60):\n",
    "#         return 'late adult'\n",
    "#     else :\n",
    "#         return 'senior'\n",
    "    \n",
    "\n",
    "# df_train['Age_type']=df_train['Age'].apply(age_type)\n",
    "# df_train"
   ]
  },
  {
   "cell_type": "code",
   "execution_count": 514,
   "id": "4ce44ce1",
   "metadata": {},
   "outputs": [],
   "source": [
    "df_train.isnull().sum()"
   ]
  },
  {
   "cell_type": "code",
   "execution_count": 515,
   "id": "9d95e324",
   "metadata": {},
   "outputs": [],
   "source": [
    "# new features\n",
    "df_train['Relatives'] = df_train['SibSp'] + df_train['Parch']\n",
    "df_train['Age_Class'] = df_train['Age'] * df_train['Pclass']\n",
    "df_train"
   ]
  },
  {
   "cell_type": "code",
   "execution_count": 516,
   "id": "e5162677",
   "metadata": {},
   "outputs": [],
   "source": [
    "# Functions that returns the title from a name. All the name in the dataset has the format \"Surname, Title. Name\"\n",
    "def get_title(name):\n",
    "    if '.' in name:\n",
    "        return name.split(',')[1].split('.')[0].strip()\n",
    "    else:\n",
    "        return 'Unknown'\n",
    "\n",
    "# A list with the all the different titles\n",
    "titles = sorted(set([x for x in df_train.Name.map(lambda x: get_title(x))]))\n",
    "\n",
    "# Normalize the titles, returning 'Mr', 'Master', 'Miss' or 'Mrs'\n",
    "def replace_titles(x):\n",
    "    title = x['Title']\n",
    "    if title in ['Capt', 'Col', 'Don', 'Jonkheer', 'Major', 'Rev', 'Sir']:\n",
    "        return 'Mr'\n",
    "    elif title in ['the Countess', 'Mme', 'Lady', 'Dona']:\n",
    "        return 'Mrs'\n",
    "    elif title in ['Mlle', 'Ms']:\n",
    "        return 'Miss'\n",
    "    elif title =='Dr':\n",
    "        if x['Sex']=='male':\n",
    "            return 'Mr'\n",
    "        else:\n",
    "            return 'Mrs'\n",
    "    else:\n",
    "        return title\n",
    "\n",
    "# Lets create a new column for the titles\n",
    "df_train['Title'] = df_train['Name'].map(lambda x: get_title(x))\n",
    "\n",
    "# And replace the titles, so the are normalized to 'Mr', 'Miss' and 'Mrs'\n",
    "df_train['Title'] = df_train.apply(replace_titles, axis=1)\n",
    "\n",
    "\n",
    "#convert columns/table\n",
    "male = pd.get_dummies(df_train['Sex'],drop_first=False) #convert male/female to 0/1. Check video why drop_first=True\n",
    "pcla = pd.get_dummies(df_train['Pclass'], drop_first=False) #make dummy variables\n",
    "salutation = pd.get_dummies(df_train['Title'], drop_first=False) \n",
    "embark = pd.get_dummies(df_train['Embarked'],drop_first=False) \n",
    "#agecategory = pd.get_dummies(df_train['Age_type'],drop_first=False)\n",
    "\n",
    "# visualise the changes, update table\n",
    "df_train = pd.concat([df_train, male, salutation, pcla, embark],axis=1)  # add those converted columns\n",
    "df_train.drop(['Sex', 'Title', 'Pclass', 'Name', 'Embarked'],axis=1,inplace=True) #drop unnecesary cols\n",
    "df_train = df_train.rename(columns = {'female':'Female', 'male':'Male', 1:'Class 1', 2:'Class 2', 3:'Class 3'})\n",
    "df_train = df_train.rename(columns = {'C':'EmbarkC', 'Q':'EmbarkQ', 'S':'EmbarkS'})\n",
    "\n",
    "df_train"
   ]
  },
  {
   "cell_type": "code",
   "execution_count": 517,
   "id": "1352d933",
   "metadata": {},
   "outputs": [],
   "source": [
    "# x = df_train.values #returns a numpy array\n",
    "# min_max_scaler = preprocessing.MinMaxScaler()\n",
    "# x_scaled = min_max_scaler.fit_transform(x)\n",
    "# df_train_scaled = pd.DataFrame(x_scaled)\n",
    "# df_train_scaled"
   ]
  },
  {
   "cell_type": "code",
   "execution_count": 518,
   "id": "d2da67c3",
   "metadata": {},
   "outputs": [],
   "source": [
    "# df_train['Female'] = df_train['Female'].astype(int)\n",
    "# df_train['Male'] = df_train['Male'].astype(int)\n",
    "# df_train['Master'] = df_train['Master'].astype(int)\n",
    "# df_train['Miss'] = df_train['Miss'].astype(int)\n",
    "# df_train['Mr'] = df_train['Mr'].astype(int)\n",
    "# df_train['Mrs'] = df_train['Mrs'].astype(int)\n",
    "# df_train['Class 1'] = df_train['Class 1'].astype(int)\n",
    "# df_train['Class 2'] = df_train['Class 2'].astype(int)\n",
    "# df_train['Class 3'] = df_train['Class 3'].astype(int)\n",
    "# df_train\n",
    "\n",
    "df_train.iloc[:,7:] = scaler.fit_transform(df_train.iloc[:,7:])\n",
    "df_train"
   ]
  },
  {
   "cell_type": "code",
   "execution_count": 519,
   "id": "672618d7",
   "metadata": {},
   "outputs": [],
   "source": [
    "#scaler = MinMaxScaler()\n",
    "df_train.iloc[:,1:7] = scaler.fit_transform(df_train.iloc[:,1:7])\n",
    "df_train\n",
    "\n",
    "#alebo pomocou loc\n",
    "#df_train.loc[:,['Age', 'SibSp', 'Parch', 'Fare']] = scaler.fit_transform(df_train.loc[:,['Age', 'SibSp', 'Parch', 'Fare']])"
   ]
  },
  {
   "cell_type": "code",
   "execution_count": 520,
   "id": "0cceefd2",
   "metadata": {},
   "outputs": [],
   "source": [
    "# save preprocessed training data\n",
    "df_train.to_csv('titanic_train_preprocessed2.csv', index=False)"
   ]
  },
  {
   "cell_type": "code",
   "execution_count": 521,
   "id": "401f1304",
   "metadata": {},
   "outputs": [],
   "source": [
    "# load submission data\n",
    "df_test = pd.read_csv('titanic_test_data.csv')"
   ]
  },
  {
   "cell_type": "code",
   "execution_count": 522,
   "id": "8a828cfb",
   "metadata": {},
   "outputs": [],
   "source": [
    "#df_test['Age'].isnull().sum()\n",
    "df_test.isnull().sum()"
   ]
  },
  {
   "cell_type": "code",
   "execution_count": 523,
   "id": "fc6b58cf",
   "metadata": {},
   "outputs": [],
   "source": [
    "df_test.drop(['PassengerId', 'Ticket', 'Cabin'],axis=1,inplace=True)\n",
    "df_test"
   ]
  },
  {
   "cell_type": "code",
   "execution_count": 524,
   "id": "13ddd311",
   "metadata": {},
   "outputs": [],
   "source": [
    "# Fill the missing values of Age\n",
    "df_test['Age'].fillna(df_test['Age'].mean(), inplace=True)  #fill n/a age with mean value\n",
    "common_value = 'S'\n",
    "df_test['Embarked'] = df_test['Embarked'].fillna(common_value)\n",
    "df_test['Fare'].fillna(df_test['Fare'].mean(), inplace=True)\n",
    "df_test\n",
    "\n",
    "# # create Age categories\n",
    "# def age_type(age):\n",
    "#     if age>0 and age<=5:\n",
    "#         return 'baby'\n",
    "#     elif(age>=6 and age<=10):\n",
    "#         return 'child'\n",
    "#     elif(age>=11 and age<=19):\n",
    "#         return 'teenager'\n",
    "#     elif(age>=20 and age<=30):\n",
    "#         return 'early adult'\n",
    "#     elif(age>=31 and age<=45):\n",
    "#         return 'adult'\n",
    "#     elif(age>=46 and age<=60):\n",
    "#         return 'late adult'\n",
    "#     else :\n",
    "#         return 'senior'\n",
    "    \n",
    "\n",
    "# df_test['Age_type']=df_test['Age'].apply(age_type)\n",
    "# df_test"
   ]
  },
  {
   "cell_type": "code",
   "execution_count": 525,
   "id": "86432489",
   "metadata": {},
   "outputs": [],
   "source": [
    "df_test.isnull().sum()"
   ]
  },
  {
   "cell_type": "code",
   "execution_count": 526,
   "id": "7b62dca5",
   "metadata": {},
   "outputs": [],
   "source": [
    "df_test['Relatives'] = df_test['SibSp'] + df_test['Parch']\n",
    "df_test['Age_Class'] = df_test['Age'] * df_test['Pclass']\n",
    "df_test"
   ]
  },
  {
   "cell_type": "code",
   "execution_count": 527,
   "id": "6430c277",
   "metadata": {},
   "outputs": [],
   "source": [
    "# Functions that returns the title from a name. All the name in the dataset has the format \"Surname, Title. Name\"\n",
    "def get_title(name):\n",
    "    if '.' in name:\n",
    "        return name.split(',')[1].split('.')[0].strip()\n",
    "    else:\n",
    "        return 'Unknown'\n",
    "\n",
    "# A list with the all the different titles\n",
    "titles = sorted(set([x for x in df_test.Name.map(lambda x: get_title(x))]))\n",
    "\n",
    "# Normalize the titles, returning 'Mr', 'Master', 'Miss' or 'Mrs'\n",
    "def replace_titles(x):\n",
    "    title = x['Title']\n",
    "    if title in ['Capt', 'Col', 'Don', 'Jonkheer', 'Major', 'Rev', 'Sir']:\n",
    "        return 'Mr'\n",
    "    elif title in ['the Countess', 'Mme', 'Lady', 'Dona']:\n",
    "        return 'Mrs'\n",
    "    elif title in ['Mlle', 'Ms']:\n",
    "        return 'Miss'\n",
    "    elif title =='Dr':\n",
    "        if x['Sex']=='male':\n",
    "            return 'Mr'\n",
    "        else:\n",
    "            return 'Mrs'\n",
    "    else:\n",
    "        return title\n",
    "\n",
    "# Lets create a new column for the titles\n",
    "df_test['Title'] = df_test['Name'].map(lambda x: get_title(x))\n",
    "\n",
    "# And replace the titles, so the are normalized to 'Mr', 'Miss' and 'Mrs'\n",
    "df_test['Title'] = df_test.apply(replace_titles, axis=1)\n",
    "\n",
    "\n",
    "#convert columns/table\n",
    "male = pd.get_dummies(df_test['Sex'],drop_first=False) #convert male/female to 0/1. Check video why drop_first=True\n",
    "pcla = pd.get_dummies(df_test['Pclass'], drop_first=False) #make dummy variables\n",
    "embark = pd.get_dummies(df_test['Embarked'],drop_first=False)\n",
    "salutation = pd.get_dummies(df_test['Title'], drop_first=False) \n",
    "#agecategory = pd.get_dummies(df_test['Age_type'],drop_first=False)\n",
    "\n",
    "# visualise the changes, update table\n",
    "df_test = pd.concat([df_test, male, salutation, pcla, embark],axis=1)  # add those converted columns\n",
    "df_test.drop(['Sex', 'Title', 'Pclass', 'Name', 'Embarked'],axis=1,inplace=True) #drop unnecesary cols\n",
    "df_test = df_test.rename(columns = {'female':'Female', 'male':'Male', 1:'Class 1', 2:'Class 2', 3:'Class 3'})\n",
    "df_test = df_test.rename(columns = {'C':'EmbarkC', 'Q':'EmbarkQ', 'S':'EmbarkS'})\n",
    "\n",
    "df_test"
   ]
  },
  {
   "cell_type": "code",
   "execution_count": 528,
   "id": "a0a747a6",
   "metadata": {},
   "outputs": [],
   "source": [
    "df_test.iloc[:,6:] = scaler.fit_transform(df_test.iloc[:,6:])\n",
    "df_test"
   ]
  },
  {
   "cell_type": "code",
   "execution_count": 529,
   "id": "2fec2925",
   "metadata": {},
   "outputs": [],
   "source": [
    "df_test.iloc[:,0:6] = scaler.fit_transform(df_test.iloc[:,0:6])\n",
    "df_test"
   ]
  },
  {
   "cell_type": "code",
   "execution_count": 530,
   "id": "653ac7c7",
   "metadata": {},
   "outputs": [],
   "source": [
    "# save submission data\n",
    "df_test.to_csv('titanic_test_preprocessed2.csv', index=False)"
   ]
  },
  {
   "cell_type": "code",
   "execution_count": null,
   "id": "e3caabb6",
   "metadata": {},
   "outputs": [],
   "source": []
  }
 ],
 "metadata": {
  "kernelspec": {
   "display_name": "Python 3 (ipykernel)",
   "language": "python",
   "name": "python3"
  },
  "language_info": {
   "codemirror_mode": {
    "name": "ipython",
    "version": 3
   },
   "file_extension": ".py",
   "mimetype": "text/x-python",
   "name": "python",
   "nbconvert_exporter": "python",
   "pygments_lexer": "ipython3",
   "version": "3.11.4"
  }
 },
 "nbformat": 4,
 "nbformat_minor": 5
}
