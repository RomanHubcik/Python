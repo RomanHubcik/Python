{
 "cells": [
  {
   "cell_type": "code",
   "execution_count": 55,
   "metadata": {},
   "outputs": [],
   "source": [
    "import tensorflow as tf\n",
    "import pandas as pd\n",
    "import matplotlib.pyplot as plt\n",
    "import numpy as np\n",
    "%matplotlib inline"
   ]
  },
  {
   "cell_type": "code",
   "execution_count": 56,
   "metadata": {},
   "outputs": [],
   "source": [
    "train_data = pd.read_csv('_train.csv')\n",
    "x_test_data = pd.read_csv('_test.csv')"
   ]
  },
  {
   "cell_type": "code",
   "execution_count": 57,
   "metadata": {},
   "outputs": [
    {
     "data": {
      "text/plain": [
       "42000"
      ]
     },
     "execution_count": 57,
     "metadata": {},
     "output_type": "execute_result"
    }
   ],
   "source": [
    "train_data.shape[0]"
   ]
  },
  {
   "cell_type": "code",
   "execution_count": 58,
   "metadata": {},
   "outputs": [],
   "source": [
    "x_train_data = train_data.drop('label', axis=1)"
   ]
  },
  {
   "cell_type": "code",
   "execution_count": 59,
   "metadata": {},
   "outputs": [
    {
     "data": {
      "text/plain": [
       "(42000, 784)"
      ]
     },
     "execution_count": 59,
     "metadata": {},
     "output_type": "execute_result"
    }
   ],
   "source": [
    "x_train_data.shape"
   ]
  },
  {
   "cell_type": "code",
   "execution_count": 60,
   "metadata": {},
   "outputs": [],
   "source": [
    "y_train_data = train_data['label']"
   ]
  },
  {
   "cell_type": "code",
   "execution_count": 61,
   "metadata": {},
   "outputs": [
    {
     "data": {
      "text/plain": [
       "(42000,)"
      ]
     },
     "execution_count": 61,
     "metadata": {},
     "output_type": "execute_result"
    }
   ],
   "source": [
    "y_train_data.shape"
   ]
  },
  {
   "cell_type": "code",
   "execution_count": 62,
   "metadata": {},
   "outputs": [
    {
     "data": {
      "text/plain": [
       "(28000, 784)"
      ]
     },
     "execution_count": 62,
     "metadata": {},
     "output_type": "execute_result"
    }
   ],
   "source": [
    "x_test_data.shape"
   ]
  },
  {
   "cell_type": "code",
   "execution_count": 63,
   "metadata": {},
   "outputs": [],
   "source": [
    "x_train = x_train_data.values\n",
    "x_test = x_test_data.values"
   ]
  },
  {
   "cell_type": "code",
   "execution_count": 64,
   "metadata": {},
   "outputs": [
    {
     "data": {
      "text/plain": [
       "(42000, 784)"
      ]
     },
     "execution_count": 64,
     "metadata": {},
     "output_type": "execute_result"
    }
   ],
   "source": [
    "x_train.shape"
   ]
  },
  {
   "cell_type": "code",
   "execution_count": 65,
   "metadata": {},
   "outputs": [
    {
     "data": {
      "text/plain": [
       "(28000, 784)"
      ]
     },
     "execution_count": 65,
     "metadata": {},
     "output_type": "execute_result"
    }
   ],
   "source": [
    "x_test.shape"
   ]
  },
  {
   "cell_type": "code",
   "execution_count": 66,
   "metadata": {},
   "outputs": [
    {
     "name": "stdout",
     "output_type": "stream",
     "text": [
      "x_train shape: (42000, 28, 28, 1)\n",
      "x_test shape: (28000, 28, 28, 1)\n",
      "Number of images in x_train 42000\n",
      "Number of images in x_test 28000\n"
     ]
    }
   ],
   "source": [
    "# Reshaping the array to 4-dims so that it can work with the Keras API\n",
    "x_train = x_train.reshape(x_train.shape[0], 28, 28, 1)\n",
    "x_test = x_test.reshape(x_test.shape[0], 28, 28, 1)\n",
    "input_shape = (28, 28, 1)\n",
    "# Making sure that the values are float so that we can get decimal points after division\n",
    "x_train = x_train.astype('float32')\n",
    "x_test = x_test.astype('float32')\n",
    "# Normalizing the RGB codes by dividing it to the max RGB value.\n",
    "x_train /= 255\n",
    "x_test /= 255\n",
    "print('x_train shape:', x_train.shape)\n",
    "print('x_test shape:', x_test.shape)\n",
    "print('Number of images in x_train', x_train.shape[0])\n",
    "print('Number of images in x_test', x_test.shape[0])"
   ]
  },
  {
   "cell_type": "code",
   "execution_count": 67,
   "metadata": {},
   "outputs": [],
   "source": [
    "from keras import layers\n",
    "from keras import models\n",
    "\n",
    "model = models.Sequential()\n",
    "model.add(layers.Conv2D(64, (3,3), activation='relu', input_shape=(28,28,1)))\n",
    "model.add(layers.MaxPooling2D((2, 2)))\n",
    "model.add(layers.Conv2D(128, (3, 3), activation='relu'))\n",
    "model.add(layers.MaxPooling2D((2, 2)))\n",
    "model.add(layers.Conv2D(128, (3, 3), activation='relu'))\n",
    "model.add(layers.Flatten())\n",
    "model.add(layers.Dense(64, activation='relu'))\n",
    "model.add(layers.Dense(10, activation='softmax'))"
   ]
  },
  {
   "cell_type": "code",
   "execution_count": 68,
   "metadata": {},
   "outputs": [
    {
     "name": "stdout",
     "output_type": "stream",
     "text": [
      "Model: \"sequential_2\"\n",
      "_________________________________________________________________\n",
      " Layer (type)                Output Shape              Param #   \n",
      "=================================================================\n",
      " conv2d_6 (Conv2D)           (None, 26, 26, 64)        640       \n",
      "                                                                 \n",
      " max_pooling2d_4 (MaxPoolin  (None, 13, 13, 64)        0         \n",
      " g2D)                                                            \n",
      "                                                                 \n",
      " conv2d_7 (Conv2D)           (None, 11, 11, 128)       73856     \n",
      "                                                                 \n",
      " max_pooling2d_5 (MaxPoolin  (None, 5, 5, 128)         0         \n",
      " g2D)                                                            \n",
      "                                                                 \n",
      " conv2d_8 (Conv2D)           (None, 3, 3, 128)         147584    \n",
      "                                                                 \n",
      " flatten_2 (Flatten)         (None, 1152)              0         \n",
      "                                                                 \n",
      " dense_4 (Dense)             (None, 64)                73792     \n",
      "                                                                 \n",
      " dense_5 (Dense)             (None, 10)                650       \n",
      "                                                                 \n",
      "=================================================================\n",
      "Total params: 296522 (1.13 MB)\n",
      "Trainable params: 296522 (1.13 MB)\n",
      "Non-trainable params: 0 (0.00 Byte)\n",
      "_________________________________________________________________\n"
     ]
    }
   ],
   "source": [
    "model.summary()"
   ]
  },
  {
   "cell_type": "code",
   "execution_count": 69,
   "metadata": {},
   "outputs": [
    {
     "data": {
      "text/plain": [
       "(42000,)"
      ]
     },
     "execution_count": 69,
     "metadata": {},
     "output_type": "execute_result"
    }
   ],
   "source": [
    "y_train_data.shape"
   ]
  },
  {
   "cell_type": "code",
   "execution_count": 70,
   "metadata": {},
   "outputs": [
    {
     "data": {
      "text/plain": [
       "(42000, 28, 28, 1)"
      ]
     },
     "execution_count": 70,
     "metadata": {},
     "output_type": "execute_result"
    }
   ],
   "source": [
    "x_train.shape"
   ]
  },
  {
   "cell_type": "code",
   "execution_count": 71,
   "metadata": {},
   "outputs": [],
   "source": [
    "from keras.utils import to_categorical\n",
    "y_train_data = to_categorical(y_train_data)"
   ]
  },
  {
   "cell_type": "code",
   "execution_count": 72,
   "metadata": {},
   "outputs": [
    {
     "data": {
      "text/plain": [
       "(42000, 10)"
      ]
     },
     "execution_count": 72,
     "metadata": {},
     "output_type": "execute_result"
    }
   ],
   "source": [
    "y_train_data.shape"
   ]
  },
  {
   "cell_type": "code",
   "execution_count": 73,
   "metadata": {},
   "outputs": [
    {
     "name": "stdout",
     "output_type": "stream",
     "text": [
      "Epoch 1/50\n",
      "657/657 [==============================] - 31s 46ms/step - loss: 0.1922 - accuracy: 0.9387 - val_loss: 0.0523 - val_accuracy: 0.9847\n",
      "Epoch 2/50\n",
      "657/657 [==============================] - 28s 43ms/step - loss: 0.0466 - accuracy: 0.9856 - val_loss: 0.0395 - val_accuracy: 0.9866\n",
      "Epoch 3/50\n",
      "657/657 [==============================] - 29s 45ms/step - loss: 0.0308 - accuracy: 0.9901 - val_loss: 0.0255 - val_accuracy: 0.9913\n",
      "Epoch 4/50\n",
      "657/657 [==============================] - 30s 45ms/step - loss: 0.0221 - accuracy: 0.9927 - val_loss: 0.0215 - val_accuracy: 0.9934\n",
      "Epoch 5/50\n",
      "657/657 [==============================] - 30s 45ms/step - loss: 0.0171 - accuracy: 0.9948 - val_loss: 0.0136 - val_accuracy: 0.9947\n",
      "Epoch 6/50\n",
      "657/657 [==============================] - 30s 45ms/step - loss: 0.0120 - accuracy: 0.9962 - val_loss: 0.0044 - val_accuracy: 0.9984\n",
      "Epoch 7/50\n",
      "657/657 [==============================] - 28s 43ms/step - loss: 0.0087 - accuracy: 0.9974 - val_loss: 0.0095 - val_accuracy: 0.9962\n",
      "Epoch 8/50\n",
      "657/657 [==============================] - 28s 43ms/step - loss: 0.0075 - accuracy: 0.9978 - val_loss: 0.0052 - val_accuracy: 0.9983\n",
      "Epoch 9/50\n",
      "657/657 [==============================] - 29s 44ms/step - loss: 0.0069 - accuracy: 0.9978 - val_loss: 0.0018 - val_accuracy: 0.9992\n",
      "Epoch 10/50\n",
      "657/657 [==============================] - 29s 44ms/step - loss: 0.0045 - accuracy: 0.9984 - val_loss: 0.0039 - val_accuracy: 0.9991\n",
      "Epoch 11/50\n",
      "657/657 [==============================] - 29s 44ms/step - loss: 0.0038 - accuracy: 0.9988 - val_loss: 0.0017 - val_accuracy: 0.9995\n",
      "Epoch 12/50\n",
      "657/657 [==============================] - 29s 44ms/step - loss: 0.0025 - accuracy: 0.9994 - val_loss: 0.0031 - val_accuracy: 0.9988\n",
      "Epoch 13/50\n",
      "657/657 [==============================] - 28s 42ms/step - loss: 0.0026 - accuracy: 0.9989 - val_loss: 0.0026 - val_accuracy: 0.9995\n",
      "Epoch 14/50\n",
      "657/657 [==============================] - 28s 42ms/step - loss: 0.0036 - accuracy: 0.9990 - val_loss: 0.0023 - val_accuracy: 0.9994\n",
      "Epoch 15/50\n",
      "657/657 [==============================] - 28s 43ms/step - loss: 0.0029 - accuracy: 0.9991 - val_loss: 0.0028 - val_accuracy: 0.9990\n",
      "Epoch 16/50\n",
      "657/657 [==============================] - 29s 44ms/step - loss: 0.0021 - accuracy: 0.9994 - val_loss: 0.0052 - val_accuracy: 0.9984\n",
      "Epoch 17/50\n",
      "657/657 [==============================] - 29s 44ms/step - loss: 0.0022 - accuracy: 0.9994 - val_loss: 8.0369e-04 - val_accuracy: 0.9996\n",
      "Epoch 18/50\n",
      "657/657 [==============================] - 29s 44ms/step - loss: 0.0016 - accuracy: 0.9995 - val_loss: 0.0018 - val_accuracy: 0.9994\n",
      "Epoch 19/50\n",
      "657/657 [==============================] - 28s 42ms/step - loss: 0.0020 - accuracy: 0.9995 - val_loss: 0.0016 - val_accuracy: 0.9995\n",
      "Epoch 20/50\n",
      "657/657 [==============================] - 27s 42ms/step - loss: 6.1086e-04 - accuracy: 0.9998 - val_loss: 1.9485e-04 - val_accuracy: 0.9999\n",
      "Epoch 21/50\n",
      "657/657 [==============================] - 28s 42ms/step - loss: 4.4358e-04 - accuracy: 0.9999 - val_loss: 0.0028 - val_accuracy: 0.9990\n",
      "Epoch 22/50\n",
      "657/657 [==============================] - 29s 44ms/step - loss: 4.8743e-04 - accuracy: 0.9999 - val_loss: 1.3844e-06 - val_accuracy: 1.0000\n",
      "Epoch 23/50\n",
      "657/657 [==============================] - 29s 44ms/step - loss: 1.4435e-06 - accuracy: 1.0000 - val_loss: 6.1790e-07 - val_accuracy: 1.0000\n",
      "Epoch 24/50\n",
      "657/657 [==============================] - 29s 44ms/step - loss: 5.2087e-07 - accuracy: 1.0000 - val_loss: 4.1029e-07 - val_accuracy: 1.0000\n",
      "Epoch 25/50\n",
      "657/657 [==============================] - 28s 43ms/step - loss: 3.9473e-07 - accuracy: 1.0000 - val_loss: 3.3743e-07 - val_accuracy: 1.0000\n",
      "Epoch 26/50\n",
      "657/657 [==============================] - 29s 43ms/step - loss: 3.3594e-07 - accuracy: 1.0000 - val_loss: 2.8887e-07 - val_accuracy: 1.0000\n",
      "Epoch 27/50\n",
      "657/657 [==============================] - 27s 42ms/step - loss: 2.9511e-07 - accuracy: 1.0000 - val_loss: 2.5367e-07 - val_accuracy: 1.0000\n",
      "Epoch 28/50\n",
      "657/657 [==============================] - 28s 43ms/step - loss: 2.6442e-07 - accuracy: 1.0000 - val_loss: 2.2646e-07 - val_accuracy: 1.0000\n",
      "Epoch 29/50\n",
      "657/657 [==============================] - 29s 43ms/step - loss: 2.4085e-07 - accuracy: 1.0000 - val_loss: 2.0651e-07 - val_accuracy: 1.0000\n",
      "Epoch 30/50\n",
      "657/657 [==============================] - 29s 44ms/step - loss: 2.2213e-07 - accuracy: 1.0000 - val_loss: 1.9112e-07 - val_accuracy: 1.0000\n",
      "Epoch 31/50\n",
      "657/657 [==============================] - 28s 43ms/step - loss: 2.0647e-07 - accuracy: 1.0000 - val_loss: 1.7691e-07 - val_accuracy: 1.0000\n",
      "Epoch 32/50\n",
      "657/657 [==============================] - 30s 46ms/step - loss: 1.9324e-07 - accuracy: 1.0000 - val_loss: 1.6568e-07 - val_accuracy: 1.0000\n",
      "Epoch 33/50\n",
      "657/657 [==============================] - 29s 43ms/step - loss: 1.8202e-07 - accuracy: 1.0000 - val_loss: 1.5606e-07 - val_accuracy: 1.0000\n",
      "Epoch 34/50\n",
      "657/657 [==============================] - 29s 44ms/step - loss: 1.7198e-07 - accuracy: 1.0000 - val_loss: 1.4722e-07 - val_accuracy: 1.0000\n",
      "Epoch 35/50\n",
      "657/657 [==============================] - 30s 45ms/step - loss: 1.6323e-07 - accuracy: 1.0000 - val_loss: 1.3976e-07 - val_accuracy: 1.0000\n",
      "Epoch 36/50\n",
      "657/657 [==============================] - 29s 44ms/step - loss: 1.5540e-07 - accuracy: 1.0000 - val_loss: 1.3298e-07 - val_accuracy: 1.0000\n",
      "Epoch 37/50\n",
      "657/657 [==============================] - 29s 44ms/step - loss: 1.4837e-07 - accuracy: 1.0000 - val_loss: 1.2691e-07 - val_accuracy: 1.0000\n",
      "Epoch 38/50\n",
      "657/657 [==============================] - 28s 43ms/step - loss: 1.4183e-07 - accuracy: 1.0000 - val_loss: 1.2184e-07 - val_accuracy: 1.0000\n",
      "Epoch 39/50\n",
      "657/657 [==============================] - 28s 42ms/step - loss: 1.3632e-07 - accuracy: 1.0000 - val_loss: 1.1688e-07 - val_accuracy: 1.0000\n",
      "Epoch 40/50\n",
      "657/657 [==============================] - 28s 43ms/step - loss: 1.3095e-07 - accuracy: 1.0000 - val_loss: 1.1179e-07 - val_accuracy: 1.0000\n",
      "Epoch 41/50\n",
      "657/657 [==============================] - 30s 46ms/step - loss: 1.2615e-07 - accuracy: 1.0000 - val_loss: 1.0776e-07 - val_accuracy: 1.0000\n",
      "Epoch 42/50\n",
      "657/657 [==============================] - 30s 46ms/step - loss: 1.2169e-07 - accuracy: 1.0000 - val_loss: 1.0388e-07 - val_accuracy: 1.0000\n",
      "Epoch 43/50\n",
      "657/657 [==============================] - 29s 44ms/step - loss: 1.1738e-07 - accuracy: 1.0000 - val_loss: 1.0013e-07 - val_accuracy: 1.0000\n",
      "Epoch 44/50\n",
      "657/657 [==============================] - 28s 43ms/step - loss: 1.1373e-07 - accuracy: 1.0000 - val_loss: 9.6904e-08 - val_accuracy: 1.0000\n",
      "Epoch 45/50\n",
      "657/657 [==============================] - 28s 42ms/step - loss: 1.1004e-07 - accuracy: 1.0000 - val_loss: 9.3805e-08 - val_accuracy: 1.0000\n",
      "Epoch 46/50\n",
      "657/657 [==============================] - 28s 42ms/step - loss: 1.0666e-07 - accuracy: 1.0000 - val_loss: 9.0824e-08 - val_accuracy: 1.0000\n",
      "Epoch 47/50\n",
      "657/657 [==============================] - 29s 44ms/step - loss: 1.0370e-07 - accuracy: 1.0000 - val_loss: 8.8357e-08 - val_accuracy: 1.0000\n",
      "Epoch 48/50\n",
      "657/657 [==============================] - 29s 44ms/step - loss: 1.0069e-07 - accuracy: 1.0000 - val_loss: 8.5806e-08 - val_accuracy: 1.0000\n",
      "Epoch 49/50\n",
      "657/657 [==============================] - 29s 43ms/step - loss: 9.7889e-08 - accuracy: 1.0000 - val_loss: 8.3517e-08 - val_accuracy: 1.0000\n",
      "Epoch 50/50\n",
      "657/657 [==============================] - 30s 45ms/step - loss: 9.5232e-08 - accuracy: 1.0000 - val_loss: 8.1252e-08 - val_accuracy: 1.0000\n"
     ]
    }
   ],
   "source": [
    "x_val = x_train[:10000]\n",
    "partial_x_train = x_train[10000:]\n",
    "\n",
    "y_val = y_train_data[:10000]\n",
    "partial_y_train = y_train_data[10000:]\n",
    "\n",
    "model.compile(optimizer='rmsprop',\n",
    "             loss='categorical_crossentropy', \n",
    "             metrics=['accuracy'])\n",
    "\n",
    "history = model.fit(x=x_train,y=y_train_data, epochs=50, batch_size=64, validation_data=(x_val, y_val), verbose=1)"
   ]
  },
  {
   "cell_type": "code",
   "execution_count": 78,
   "metadata": {},
   "outputs": [
    {
     "data": {
      "image/png": "[encoded data removed]",
      "text/plain": [
       "<Figure size 640x480 with 2 Axes>"
      ]
     },
     "metadata": {},
     "output_type": "display_data"
    }
   ],
   "source": [
    "# Evaluate the model\n",
    "fig, ax = plt.subplots(2,1)\n",
    "ax[0].plot(history.history['loss'], color='b', label=\"Training loss\")\n",
    "ax[0].plot(history.history['val_loss'], color='r', label=\"validation loss\",axes =ax[0])\n",
    "legend = ax[0].legend(loc='best', shadow=True)\n",
    "\n",
    "ax[1].plot(history.history['accuracy'], color='b', label=\"Training accuracy\")\n",
    "ax[1].plot(history.history['val_accuracy'], color='r',label=\"Validation accuracy\")\n",
    "legend = ax[1].legend(loc='best', shadow=True)"
   ]
  },
  {
   "cell_type": "code",
   "execution_count": 79,
   "metadata": {},
   "outputs": [
    {
     "data": {
      "image/png": "[encoded data removed]",
      "text/plain": [
       "<Figure size 640x480 with 1 Axes>"
      ]
     },
     "metadata": {},
     "output_type": "display_data"
    }
   ],
   "source": [
    "history_dict = history.history\n",
    "history_dict.keys()\n",
    "\n",
    "\n",
    "plt.clf()   # clear figure\n",
    "acc = history_dict['accuracy']\n",
    "val_acc = history_dict['val_accuracy']\n",
    "loss = history_dict['loss']\n",
    "val_loss = history_dict['val_loss']\n",
    "\n",
    "epochs = range(1, len(acc) + 1)\n",
    "plt.plot(epochs, acc, 'bo', label='Training acc')\n",
    "plt.plot(epochs, val_acc, 'b', label='Validation acc')\n",
    "plt.title('Training and validation accuracy')\n",
    "plt.xlabel('Epochs')\n",
    "plt.ylabel('Accuracy')\n",
    "plt.legend()\n",
    "\n",
    "plt.show()"
   ]
  },
  {
   "cell_type": "code",
   "execution_count": 80,
   "metadata": {},
   "outputs": [
    {
     "name": "stdout",
     "output_type": "stream",
     "text": [
      "1313/1313 [==============================] - 20s 15ms/step - loss: 9.2522e-08 - accuracy: 1.0000\n"
     ]
    },
    {
     "data": {
      "text/plain": [
       "[9.252172361584599e-08, 1.0]"
      ]
     },
     "execution_count": 80,
     "metadata": {},
     "output_type": "execute_result"
    }
   ],
   "source": [
    "model.evaluate(x_train, y_train_data)"
   ]
  },
  {
   "cell_type": "code",
   "execution_count": 81,
   "metadata": {},
   "outputs": [
    {
     "name": "stdout",
     "output_type": "stream",
     "text": [
      "875/875 [==============================] - 14s 15ms/step\n"
     ]
    }
   ],
   "source": [
    "predictions = model.predict(x_test)"
   ]
  },
  {
   "cell_type": "code",
   "execution_count": 82,
   "metadata": {},
   "outputs": [
    {
     "data": {
      "text/html": [
       "<div>\n",
       "<style scoped>\n",
       "    .dataframe tbody tr th:only-of-type {\n",
       "        vertical-align: middle;\n",
       "    }\n",
       "\n",
       "    .dataframe tbody tr th {\n",
       "        vertical-align: top;\n",
       "    }\n",
       "\n",
       "    .dataframe thead th {\n",
       "        text-align: right;\n",
       "    }\n",
       "</style>\n",
       "<table border=\"1\" class=\"dataframe\">\n",
       "  <thead>\n",
       "    <tr style=\"text-align: right;\">\n",
       "      <th></th>\n",
       "      <th>0</th>\n",
       "    </tr>\n",
       "  </thead>\n",
       "  <tbody>\n",
       "    <tr>\n",
       "      <th>0</th>\n",
       "      <td>2</td>\n",
       "    </tr>\n",
       "    <tr>\n",
       "      <th>1</th>\n",
       "      <td>0</td>\n",
       "    </tr>\n",
       "    <tr>\n",
       "      <th>2</th>\n",
       "      <td>9</td>\n",
       "    </tr>\n",
       "    <tr>\n",
       "      <th>3</th>\n",
       "      <td>9</td>\n",
       "    </tr>\n",
       "    <tr>\n",
       "      <th>4</th>\n",
       "      <td>3</td>\n",
       "    </tr>\n",
       "  </tbody>\n",
       "</table>\n",
       "</div>"
      ],
      "text/plain": [
       "   0\n",
       "0  2\n",
       "1  0\n",
       "2  9\n",
       "3  9\n",
       "4  3"
      ]
     },
     "execution_count": 82,
     "metadata": {},
     "output_type": "execute_result"
    }
   ],
   "source": [
    "predictions = pd.DataFrame(predictions)\n",
    "result = np.argmax(predictions, axis=1)\n",
    "result = pd.DataFrame(result)\n",
    "result.head()"
   ]
  },
  {
   "cell_type": "code",
   "execution_count": 83,
   "metadata": {},
   "outputs": [
    {
     "data": {
      "text/html": [
       "<div>\n",
       "<style scoped>\n",
       "    .dataframe tbody tr th:only-of-type {\n",
       "        vertical-align: middle;\n",
       "    }\n",
       "\n",
       "    .dataframe tbody tr th {\n",
       "        vertical-align: top;\n",
       "    }\n",
       "\n",
       "    .dataframe thead th {\n",
       "        text-align: right;\n",
       "    }\n",
       "</style>\n",
       "<table border=\"1\" class=\"dataframe\">\n",
       "  <thead>\n",
       "    <tr style=\"text-align: right;\">\n",
       "      <th></th>\n",
       "      <th>ImageId</th>\n",
       "      <th>Label</th>\n",
       "    </tr>\n",
       "  </thead>\n",
       "  <tbody>\n",
       "    <tr>\n",
       "      <th>0</th>\n",
       "      <td>1</td>\n",
       "      <td>2</td>\n",
       "    </tr>\n",
       "    <tr>\n",
       "      <th>1</th>\n",
       "      <td>2</td>\n",
       "      <td>0</td>\n",
       "    </tr>\n",
       "    <tr>\n",
       "      <th>2</th>\n",
       "      <td>3</td>\n",
       "      <td>9</td>\n",
       "    </tr>\n",
       "    <tr>\n",
       "      <th>3</th>\n",
       "      <td>4</td>\n",
       "      <td>9</td>\n",
       "    </tr>\n",
       "    <tr>\n",
       "      <th>4</th>\n",
       "      <td>5</td>\n",
       "      <td>3</td>\n",
       "    </tr>\n",
       "    <tr>\n",
       "      <th>...</th>\n",
       "      <td>...</td>\n",
       "      <td>...</td>\n",
       "    </tr>\n",
       "    <tr>\n",
       "      <th>27995</th>\n",
       "      <td>27996</td>\n",
       "      <td>9</td>\n",
       "    </tr>\n",
       "    <tr>\n",
       "      <th>27996</th>\n",
       "      <td>27997</td>\n",
       "      <td>7</td>\n",
       "    </tr>\n",
       "    <tr>\n",
       "      <th>27997</th>\n",
       "      <td>27998</td>\n",
       "      <td>3</td>\n",
       "    </tr>\n",
       "    <tr>\n",
       "      <th>27998</th>\n",
       "      <td>27999</td>\n",
       "      <td>9</td>\n",
       "    </tr>\n",
       "    <tr>\n",
       "      <th>27999</th>\n",
       "      <td>28000</td>\n",
       "      <td>2</td>\n",
       "    </tr>\n",
       "  </tbody>\n",
       "</table>\n",
       "<p>28000 rows × 2 columns</p>\n",
       "</div>"
      ],
      "text/plain": [
       "       ImageId  Label\n",
       "0            1      2\n",
       "1            2      0\n",
       "2            3      9\n",
       "3            4      9\n",
       "4            5      3\n",
       "...        ...    ...\n",
       "27995    27996      9\n",
       "27996    27997      7\n",
       "27997    27998      3\n",
       "27998    27999      9\n",
       "27999    28000      2\n",
       "\n",
       "[28000 rows x 2 columns]"
      ]
     },
     "execution_count": 83,
     "metadata": {},
     "output_type": "execute_result"
    }
   ],
   "source": [
    "df_test = pd.read_csv('sample_submission.csv')\n",
    "df_test = pd.concat([df_test, result],axis=1)\n",
    "df_test = df_test.drop(columns=['Label'])\n",
    "df_test = df_test.rename(columns = {0:'Label'})\n",
    "df_test = df_test[['ImageId', 'Label']]\n",
    "df_test"
   ]
  },
  {
   "cell_type": "code",
   "execution_count": 85,
   "metadata": {},
   "outputs": [],
   "source": [
    "df_test.to_csv('Model1a_50epoch_acc_1.000.csv', index=False)"
   ]
  },
  {
   "cell_type": "code",
   "execution_count": 45,
   "metadata": {},
   "outputs": [],
   "source": [
    "# predictions = []\n",
    "\n",
    "# for i in range(len(x_test)):\n",
    "#     pred = model.predict(x_test[i].reshape(1, 28, 28, 1), verbose=0)\n",
    "#     predictions.append(np.argmax(pred))\n",
    "#     print(f\"Writing line: {len(predictions)}/28000, {((len(predictions))/28000)*100:.3f}% is done.\")\n",
    "\n",
    "# resultlist = []\n",
    "# #itemid = 0\n",
    "\n",
    "# for i in range(len(x_test)):\n",
    "#     pred = model.predict(x_test[i].reshape(1, 28, 28, 1))\n",
    "#     #print(*pred, sep = \"\\n\")\n",
    "#     resultlist.append(np.argmax(pred))\n",
    "#     #itemid.append(itemid+1)\n",
    "#     #print(np.argmax(pred))"
   ]
  },
  {
   "cell_type": "code",
   "execution_count": 27,
   "metadata": {},
   "outputs": [],
   "source": [
    "# import csv\n",
    "\n",
    "# resultlist\n",
    "# csvfile = \"result.csv\"\n",
    "\n",
    "# #Assuming res is a flat list\n",
    "# with open(csvfile, \"w\") as output:\n",
    "#     writer = csv.writer(output, lineterminator='\\n')\n",
    "#     for val in resultlist:\n",
    "#         writer.writerow([val])\n",
    "\n",
    "# # another way\n",
    "# submissions=pd.DataFrame({\"ImageId\": list(range(1,len(predictions)+1)),\n",
    "#                          \"Label\": predictions})\n",
    "# submissions.to_csv(\"DR.csv\", index=False, header=True)"
   ]
  },
  {
   "cell_type": "code",
   "execution_count": null,
   "metadata": {},
   "outputs": [],
   "source": []
  }
 ],
 "metadata": {
  "kernelspec": {
   "display_name": "Python 3 (ipykernel)",
   "language": "python",
   "name": "python3"
  },
  "language_info": {
   "codemirror_mode": {
    "name": "ipython",
    "version": 3
   },
   "file_extension": ".py",
   "mimetype": "text/x-python",
   "name": "python",
   "nbconvert_exporter": "python",
   "pygments_lexer": "ipython3",
   "version": "3.11.4"
  }
 },
 "nbformat": 4,
 "nbformat_minor": 2
}
