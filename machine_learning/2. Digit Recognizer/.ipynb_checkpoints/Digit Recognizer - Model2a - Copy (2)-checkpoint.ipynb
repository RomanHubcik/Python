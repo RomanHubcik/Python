{
 "cells": [
  {
   "cell_type": "code",
   "execution_count": 64,
   "metadata": {},
   "outputs": [],
   "source": [
    "import numpy as np # linear algebra\n",
    "import pandas as pd # data processing, CSV file I/O (e.g. pd.read_csv)\n",
    "\n",
    "import matplotlib.pyplot as plt\n",
    "%matplotlib inline\n",
    "\n",
    "from keras.models import Sequential\n",
    "from keras.layers import Dense , Dropout , Lambda, Flatten\n",
    "from keras.optimizers import Adam ,RMSprop\n",
    "from sklearn.model_selection import train_test_split\n",
    "from keras import  backend as K\n",
    "from keras.preprocessing.image import ImageDataGenerator"
   ]
  },
  {
   "cell_type": "code",
   "execution_count": 65,
   "metadata": {},
   "outputs": [
    {
     "name": "stdout",
     "output_type": "stream",
     "text": [
      "(42000, 785)\n"
     ]
    },
    {
     "data": {
      "text/html": [
       "<div>\n",
       "<style scoped>\n",
       "    .dataframe tbody tr th:only-of-type {\n",
       "        vertical-align: middle;\n",
       "    }\n",
       "\n",
       "    .dataframe tbody tr th {\n",
       "        vertical-align: top;\n",
       "    }\n",
       "\n",
       "    .dataframe thead th {\n",
       "        text-align: right;\n",
       "    }\n",
       "</style>\n",
       "<table border=\"1\" class=\"dataframe\">\n",
       "  <thead>\n",
       "    <tr style=\"text-align: right;\">\n",
       "      <th></th>\n",
       "      <th>label</th>\n",
       "      <th>pixel0</th>\n",
       "      <th>pixel1</th>\n",
       "      <th>pixel2</th>\n",
       "      <th>pixel3</th>\n",
       "      <th>pixel4</th>\n",
       "      <th>pixel5</th>\n",
       "      <th>pixel6</th>\n",
       "      <th>pixel7</th>\n",
       "      <th>pixel8</th>\n",
       "      <th>...</th>\n",
       "      <th>pixel774</th>\n",
       "      <th>pixel775</th>\n",
       "      <th>pixel776</th>\n",
       "      <th>pixel777</th>\n",
       "      <th>pixel778</th>\n",
       "      <th>pixel779</th>\n",
       "      <th>pixel780</th>\n",
       "      <th>pixel781</th>\n",
       "      <th>pixel782</th>\n",
       "      <th>pixel783</th>\n",
       "    </tr>\n",
       "  </thead>\n",
       "  <tbody>\n",
       "    <tr>\n",
       "      <th>0</th>\n",
       "      <td>1</td>\n",
       "      <td>0</td>\n",
       "      <td>0</td>\n",
       "      <td>0</td>\n",
       "      <td>0</td>\n",
       "      <td>0</td>\n",
       "      <td>0</td>\n",
       "      <td>0</td>\n",
       "      <td>0</td>\n",
       "      <td>0</td>\n",
       "      <td>...</td>\n",
       "      <td>0</td>\n",
       "      <td>0</td>\n",
       "      <td>0</td>\n",
       "      <td>0</td>\n",
       "      <td>0</td>\n",
       "      <td>0</td>\n",
       "      <td>0</td>\n",
       "      <td>0</td>\n",
       "      <td>0</td>\n",
       "      <td>0</td>\n",
       "    </tr>\n",
       "    <tr>\n",
       "      <th>1</th>\n",
       "      <td>0</td>\n",
       "      <td>0</td>\n",
       "      <td>0</td>\n",
       "      <td>0</td>\n",
       "      <td>0</td>\n",
       "      <td>0</td>\n",
       "      <td>0</td>\n",
       "      <td>0</td>\n",
       "      <td>0</td>\n",
       "      <td>0</td>\n",
       "      <td>...</td>\n",
       "      <td>0</td>\n",
       "      <td>0</td>\n",
       "      <td>0</td>\n",
       "      <td>0</td>\n",
       "      <td>0</td>\n",
       "      <td>0</td>\n",
       "      <td>0</td>\n",
       "      <td>0</td>\n",
       "      <td>0</td>\n",
       "      <td>0</td>\n",
       "    </tr>\n",
       "    <tr>\n",
       "      <th>2</th>\n",
       "      <td>1</td>\n",
       "      <td>0</td>\n",
       "      <td>0</td>\n",
       "      <td>0</td>\n",
       "      <td>0</td>\n",
       "      <td>0</td>\n",
       "      <td>0</td>\n",
       "      <td>0</td>\n",
       "      <td>0</td>\n",
       "      <td>0</td>\n",
       "      <td>...</td>\n",
       "      <td>0</td>\n",
       "      <td>0</td>\n",
       "      <td>0</td>\n",
       "      <td>0</td>\n",
       "      <td>0</td>\n",
       "      <td>0</td>\n",
       "      <td>0</td>\n",
       "      <td>0</td>\n",
       "      <td>0</td>\n",
       "      <td>0</td>\n",
       "    </tr>\n",
       "    <tr>\n",
       "      <th>3</th>\n",
       "      <td>4</td>\n",
       "      <td>0</td>\n",
       "      <td>0</td>\n",
       "      <td>0</td>\n",
       "      <td>0</td>\n",
       "      <td>0</td>\n",
       "      <td>0</td>\n",
       "      <td>0</td>\n",
       "      <td>0</td>\n",
       "      <td>0</td>\n",
       "      <td>...</td>\n",
       "      <td>0</td>\n",
       "      <td>0</td>\n",
       "      <td>0</td>\n",
       "      <td>0</td>\n",
       "      <td>0</td>\n",
       "      <td>0</td>\n",
       "      <td>0</td>\n",
       "      <td>0</td>\n",
       "      <td>0</td>\n",
       "      <td>0</td>\n",
       "    </tr>\n",
       "    <tr>\n",
       "      <th>4</th>\n",
       "      <td>0</td>\n",
       "      <td>0</td>\n",
       "      <td>0</td>\n",
       "      <td>0</td>\n",
       "      <td>0</td>\n",
       "      <td>0</td>\n",
       "      <td>0</td>\n",
       "      <td>0</td>\n",
       "      <td>0</td>\n",
       "      <td>0</td>\n",
       "      <td>...</td>\n",
       "      <td>0</td>\n",
       "      <td>0</td>\n",
       "      <td>0</td>\n",
       "      <td>0</td>\n",
       "      <td>0</td>\n",
       "      <td>0</td>\n",
       "      <td>0</td>\n",
       "      <td>0</td>\n",
       "      <td>0</td>\n",
       "      <td>0</td>\n",
       "    </tr>\n",
       "  </tbody>\n",
       "</table>\n",
       "<p>5 rows × 785 columns</p>\n",
       "</div>"
      ],
      "text/plain": [
       "   label  pixel0  pixel1  pixel2  pixel3  pixel4  pixel5  pixel6  pixel7  \\\n",
       "0      1       0       0       0       0       0       0       0       0   \n",
       "1      0       0       0       0       0       0       0       0       0   \n",
       "2      1       0       0       0       0       0       0       0       0   \n",
       "3      4       0       0       0       0       0       0       0       0   \n",
       "4      0       0       0       0       0       0       0       0       0   \n",
       "\n",
       "   pixel8  ...  pixel774  pixel775  pixel776  pixel777  pixel778  pixel779  \\\n",
       "0       0  ...         0         0         0         0         0         0   \n",
       "1       0  ...         0         0         0         0         0         0   \n",
       "2       0  ...         0         0         0         0         0         0   \n",
       "3       0  ...         0         0         0         0         0         0   \n",
       "4       0  ...         0         0         0         0         0         0   \n",
       "\n",
       "   pixel780  pixel781  pixel782  pixel783  \n",
       "0         0         0         0         0  \n",
       "1         0         0         0         0  \n",
       "2         0         0         0         0  \n",
       "3         0         0         0         0  \n",
       "4         0         0         0         0  \n",
       "\n",
       "[5 rows x 785 columns]"
      ]
     },
     "execution_count": 65,
     "metadata": {},
     "output_type": "execute_result"
    }
   ],
   "source": [
    "# create the training & test sets, skipping the header row with [1:]\n",
    "train = pd.read_csv(\"_train.csv\")\n",
    "print(train.shape)\n",
    "train.head()"
   ]
  },
  {
   "cell_type": "code",
   "execution_count": 66,
   "metadata": {},
   "outputs": [
    {
     "name": "stdout",
     "output_type": "stream",
     "text": [
      "(28000, 784)\n"
     ]
    },
    {
     "data": {
      "text/html": [
       "<div>\n",
       "<style scoped>\n",
       "    .dataframe tbody tr th:only-of-type {\n",
       "        vertical-align: middle;\n",
       "    }\n",
       "\n",
       "    .dataframe tbody tr th {\n",
       "        vertical-align: top;\n",
       "    }\n",
       "\n",
       "    .dataframe thead th {\n",
       "        text-align: right;\n",
       "    }\n",
       "</style>\n",
       "<table border=\"1\" class=\"dataframe\">\n",
       "  <thead>\n",
       "    <tr style=\"text-align: right;\">\n",
       "      <th></th>\n",
       "      <th>pixel0</th>\n",
       "      <th>pixel1</th>\n",
       "      <th>pixel2</th>\n",
       "      <th>pixel3</th>\n",
       "      <th>pixel4</th>\n",
       "      <th>pixel5</th>\n",
       "      <th>pixel6</th>\n",
       "      <th>pixel7</th>\n",
       "      <th>pixel8</th>\n",
       "      <th>pixel9</th>\n",
       "      <th>...</th>\n",
       "      <th>pixel774</th>\n",
       "      <th>pixel775</th>\n",
       "      <th>pixel776</th>\n",
       "      <th>pixel777</th>\n",
       "      <th>pixel778</th>\n",
       "      <th>pixel779</th>\n",
       "      <th>pixel780</th>\n",
       "      <th>pixel781</th>\n",
       "      <th>pixel782</th>\n",
       "      <th>pixel783</th>\n",
       "    </tr>\n",
       "  </thead>\n",
       "  <tbody>\n",
       "    <tr>\n",
       "      <th>0</th>\n",
       "      <td>0</td>\n",
       "      <td>0</td>\n",
       "      <td>0</td>\n",
       "      <td>0</td>\n",
       "      <td>0</td>\n",
       "      <td>0</td>\n",
       "      <td>0</td>\n",
       "      <td>0</td>\n",
       "      <td>0</td>\n",
       "      <td>0</td>\n",
       "      <td>...</td>\n",
       "      <td>0</td>\n",
       "      <td>0</td>\n",
       "      <td>0</td>\n",
       "      <td>0</td>\n",
       "      <td>0</td>\n",
       "      <td>0</td>\n",
       "      <td>0</td>\n",
       "      <td>0</td>\n",
       "      <td>0</td>\n",
       "      <td>0</td>\n",
       "    </tr>\n",
       "    <tr>\n",
       "      <th>1</th>\n",
       "      <td>0</td>\n",
       "      <td>0</td>\n",
       "      <td>0</td>\n",
       "      <td>0</td>\n",
       "      <td>0</td>\n",
       "      <td>0</td>\n",
       "      <td>0</td>\n",
       "      <td>0</td>\n",
       "      <td>0</td>\n",
       "      <td>0</td>\n",
       "      <td>...</td>\n",
       "      <td>0</td>\n",
       "      <td>0</td>\n",
       "      <td>0</td>\n",
       "      <td>0</td>\n",
       "      <td>0</td>\n",
       "      <td>0</td>\n",
       "      <td>0</td>\n",
       "      <td>0</td>\n",
       "      <td>0</td>\n",
       "      <td>0</td>\n",
       "    </tr>\n",
       "    <tr>\n",
       "      <th>2</th>\n",
       "      <td>0</td>\n",
       "      <td>0</td>\n",
       "      <td>0</td>\n",
       "      <td>0</td>\n",
       "      <td>0</td>\n",
       "      <td>0</td>\n",
       "      <td>0</td>\n",
       "      <td>0</td>\n",
       "      <td>0</td>\n",
       "      <td>0</td>\n",
       "      <td>...</td>\n",
       "      <td>0</td>\n",
       "      <td>0</td>\n",
       "      <td>0</td>\n",
       "      <td>0</td>\n",
       "      <td>0</td>\n",
       "      <td>0</td>\n",
       "      <td>0</td>\n",
       "      <td>0</td>\n",
       "      <td>0</td>\n",
       "      <td>0</td>\n",
       "    </tr>\n",
       "    <tr>\n",
       "      <th>3</th>\n",
       "      <td>0</td>\n",
       "      <td>0</td>\n",
       "      <td>0</td>\n",
       "      <td>0</td>\n",
       "      <td>0</td>\n",
       "      <td>0</td>\n",
       "      <td>0</td>\n",
       "      <td>0</td>\n",
       "      <td>0</td>\n",
       "      <td>0</td>\n",
       "      <td>...</td>\n",
       "      <td>0</td>\n",
       "      <td>0</td>\n",
       "      <td>0</td>\n",
       "      <td>0</td>\n",
       "      <td>0</td>\n",
       "      <td>0</td>\n",
       "      <td>0</td>\n",
       "      <td>0</td>\n",
       "      <td>0</td>\n",
       "      <td>0</td>\n",
       "    </tr>\n",
       "    <tr>\n",
       "      <th>4</th>\n",
       "      <td>0</td>\n",
       "      <td>0</td>\n",
       "      <td>0</td>\n",
       "      <td>0</td>\n",
       "      <td>0</td>\n",
       "      <td>0</td>\n",
       "      <td>0</td>\n",
       "      <td>0</td>\n",
       "      <td>0</td>\n",
       "      <td>0</td>\n",
       "      <td>...</td>\n",
       "      <td>0</td>\n",
       "      <td>0</td>\n",
       "      <td>0</td>\n",
       "      <td>0</td>\n",
       "      <td>0</td>\n",
       "      <td>0</td>\n",
       "      <td>0</td>\n",
       "      <td>0</td>\n",
       "      <td>0</td>\n",
       "      <td>0</td>\n",
       "    </tr>\n",
       "  </tbody>\n",
       "</table>\n",
       "<p>5 rows × 784 columns</p>\n",
       "</div>"
      ],
      "text/plain": [
       "   pixel0  pixel1  pixel2  pixel3  pixel4  pixel5  pixel6  pixel7  pixel8  \\\n",
       "0       0       0       0       0       0       0       0       0       0   \n",
       "1       0       0       0       0       0       0       0       0       0   \n",
       "2       0       0       0       0       0       0       0       0       0   \n",
       "3       0       0       0       0       0       0       0       0       0   \n",
       "4       0       0       0       0       0       0       0       0       0   \n",
       "\n",
       "   pixel9  ...  pixel774  pixel775  pixel776  pixel777  pixel778  pixel779  \\\n",
       "0       0  ...         0         0         0         0         0         0   \n",
       "1       0  ...         0         0         0         0         0         0   \n",
       "2       0  ...         0         0         0         0         0         0   \n",
       "3       0  ...         0         0         0         0         0         0   \n",
       "4       0  ...         0         0         0         0         0         0   \n",
       "\n",
       "   pixel780  pixel781  pixel782  pixel783  \n",
       "0         0         0         0         0  \n",
       "1         0         0         0         0  \n",
       "2         0         0         0         0  \n",
       "3         0         0         0         0  \n",
       "4         0         0         0         0  \n",
       "\n",
       "[5 rows x 784 columns]"
      ]
     },
     "execution_count": 66,
     "metadata": {},
     "output_type": "execute_result"
    }
   ],
   "source": [
    "test= pd.read_csv(\"_test.csv\")\n",
    "print(test.shape)\n",
    "test.head()"
   ]
  },
  {
   "cell_type": "code",
   "execution_count": 67,
   "metadata": {},
   "outputs": [],
   "source": [
    "X_train = (train.iloc[:,1:].values).astype('float32') # all pixel values\n",
    "y_train = train.iloc[:,0].values.astype('int32') # only labels i.e targets digits\n",
    "X_test = test.values.astype('float32')"
   ]
  },
  {
   "cell_type": "code",
   "execution_count": 68,
   "metadata": {},
   "outputs": [
    {
     "data": {
      "text/plain": [
       "array([[0., 0., 0., ..., 0., 0., 0.],\n",
       "       [0., 0., 0., ..., 0., 0., 0.],\n",
       "       [0., 0., 0., ..., 0., 0., 0.],\n",
       "       ...,\n",
       "       [0., 0., 0., ..., 0., 0., 0.],\n",
       "       [0., 0., 0., ..., 0., 0., 0.],\n",
       "       [0., 0., 0., ..., 0., 0., 0.]], dtype=float32)"
      ]
     },
     "execution_count": 68,
     "metadata": {},
     "output_type": "execute_result"
    }
   ],
   "source": [
    "X_train"
   ]
  },
  {
   "cell_type": "code",
   "execution_count": 69,
   "metadata": {},
   "outputs": [
    {
     "data": {
      "text/plain": [
       "array([1, 0, 1, ..., 7, 6, 9])"
      ]
     },
     "execution_count": 69,
     "metadata": {},
     "output_type": "execute_result"
    }
   ],
   "source": [
    "y_train"
   ]
  },
  {
   "cell_type": "code",
   "execution_count": 70,
   "metadata": {},
   "outputs": [
    {
     "data": {
      "image/png": "[encoded data removed]",
      "text/plain": [
       "<Figure size 640x480 with 3 Axes>"
      ]
     },
     "metadata": {},
     "output_type": "display_data"
    }
   ],
   "source": [
    "#Convert train datset to (num_images, img_rows, img_cols) format \n",
    "X_train = X_train.reshape(X_train.shape[0], 28, 28)\n",
    "\n",
    "for i in range(6, 9):\n",
    "    plt.subplot(330 + (i+1))\n",
    "    plt.imshow(X_train[i], cmap=plt.get_cmap('gray'))\n",
    "    plt.title(y_train[i]);"
   ]
  },
  {
   "cell_type": "code",
   "execution_count": 71,
   "metadata": {},
   "outputs": [
    {
     "data": {
      "text/plain": [
       "(42000, 28, 28, 1)"
      ]
     },
     "execution_count": 71,
     "metadata": {},
     "output_type": "execute_result"
    }
   ],
   "source": [
    "#expand 1 more dimention as 1 for colour channel gray\n",
    "X_train = X_train.reshape(X_train.shape[0], 28, 28,1)\n",
    "X_train.shape"
   ]
  },
  {
   "cell_type": "code",
   "execution_count": 72,
   "metadata": {},
   "outputs": [
    {
     "data": {
      "text/plain": [
       "(28000, 28, 28, 1)"
      ]
     },
     "execution_count": 72,
     "metadata": {},
     "output_type": "execute_result"
    }
   ],
   "source": [
    "X_test = X_test.reshape(X_test.shape[0], 28, 28,1)\n",
    "X_test.shape"
   ]
  },
  {
   "cell_type": "code",
   "execution_count": 73,
   "metadata": {},
   "outputs": [],
   "source": [
    "mean_px = X_train.mean().astype(np.float32)\n",
    "std_px = X_train.std().astype(np.float32)\n",
    "\n",
    "def standardize(x): \n",
    "    return (x-mean_px)/std_px"
   ]
  },
  {
   "cell_type": "code",
   "execution_count": 74,
   "metadata": {},
   "outputs": [
    {
     "name": "stdout",
     "output_type": "stream",
     "text": [
      "33.408936 78.67759\n"
     ]
    }
   ],
   "source": [
    "print(mean_px, std_px)"
   ]
  },
  {
   "cell_type": "code",
   "execution_count": 75,
   "metadata": {},
   "outputs": [
    {
     "data": {
      "text/plain": [
       "10"
      ]
     },
     "execution_count": 75,
     "metadata": {},
     "output_type": "execute_result"
    }
   ],
   "source": [
    "#from keras.utils.np_utils import to_categorical\n",
    "from keras.utils import to_categorical\n",
    "#Y_train = to_categorical(Y_train, num_classes=10)\n",
    "y_train = to_categorical(y_train)\n",
    "num_classes = y_train.shape[1]\n",
    "num_classes"
   ]
  },
  {
   "cell_type": "code",
   "execution_count": 76,
   "metadata": {},
   "outputs": [
    {
     "name": "stderr",
     "output_type": "stream",
     "text": [
      "C:\\Python311\\Lib\\site-packages\\matplotlib\\text.py:1279: FutureWarning: elementwise comparison failed; returning scalar instead, but in the future will perform elementwise comparison\n",
      "  if s != self._text:\n"
     ]
    },
    {
     "data": {
      "image/png": "[encoded data removed]",
      "text/plain": [
       "<Figure size 640x480 with 1 Axes>"
      ]
     },
     "metadata": {},
     "output_type": "display_data"
    }
   ],
   "source": [
    "plt.title(y_train[8])\n",
    "plt.plot(y_train[8])\n",
    "plt.xticks(range(10));"
   ]
  },
  {
   "cell_type": "markdown",
   "metadata": {},
   "source": [
    "## Design NN arch"
   ]
  },
  {
   "cell_type": "code",
   "execution_count": 77,
   "metadata": {},
   "outputs": [],
   "source": [
    "from keras.layers import  Lambda , Dense, Flatten, Dropout\n",
    "from keras.callbacks import EarlyStopping\n",
    "from keras.layers import BatchNormalization, Convolution2D , MaxPooling2D\n",
    "from keras.optimizers import RMSprop\n",
    "from keras import regularizers\n",
    "\n",
    "from keras.models import  Sequential\n",
    "model = Sequential()\n",
    "\n",
    "model.add(Convolution2D(filters=64, kernel_size=(5, 5), padding='Same', activation='relu', input_shape=(28, 28, 1)))\n",
    "model.add(BatchNormalization())\n",
    "\n",
    "model.add(Convolution2D(filters=64, kernel_size=(5, 5), padding='Same', activation='relu'))\n",
    "model.add(BatchNormalization())\n",
    "model.add(MaxPooling2D(pool_size=(2, 2)))\n",
    "model.add(Dropout(0.25))\n",
    "\n",
    "model.add(Convolution2D(filters=64, kernel_size=(5, 5), padding='Same', activation='relu'))\n",
    "model.add(BatchNormalization())\n",
    "model.add(MaxPooling2D(pool_size=(2, 2)))\n",
    "model.add(Dropout(0.25))\n",
    "\n",
    "model.add(Convolution2D(filters=64, kernel_size=(3, 3), padding='Same', activation='relu'))\n",
    "model.add(BatchNormalization())\n",
    "\n",
    "model.add(Convolution2D(filters=64, kernel_size=(3, 3), padding='Same', activation='relu'))\n",
    "model.add(BatchNormalization())\n",
    "model.add(MaxPooling2D(pool_size=(2, 2), strides=(2, 2)))\n",
    "model.add(Dropout(0.25))\n",
    "\n",
    "model.add(Convolution2D(filters=64, kernel_size=(3, 3), padding='Same', activation='relu'))\n",
    "model.add(BatchNormalization())\n",
    "model.add(Dropout(0.25))\n",
    "\n",
    "model.add(Flatten())\n",
    "model.add(Dense(256, activation='relu'))\n",
    "model.add(BatchNormalization())\n",
    "model.add(Dropout(0.25))\n",
    "\n",
    "model.add(Dense(10, activation ='softmax'))"
   ]
  },
  {
   "cell_type": "code",
   "execution_count": 78,
   "metadata": {},
   "outputs": [],
   "source": [
    "# # fix random seed for reproducibility\n",
    "# seed = 42\n",
    "# np.random.seed(seed)"
   ]
  },
  {
   "cell_type": "code",
   "execution_count": 79,
   "metadata": {},
   "outputs": [],
   "source": [
    "# from keras.models import  Sequential\n",
    "# #import keras.layers\n",
    "# from keras.layers import  Lambda , Dense, Flatten, Dropout\n",
    "# from keras.callbacks import EarlyStopping\n",
    "# from keras.layers import BatchNormalization, Convolution2D , MaxPooling2D"
   ]
  },
  {
   "cell_type": "code",
   "execution_count": 80,
   "metadata": {},
   "outputs": [],
   "source": [
    "# model= Sequential()\n",
    "# model.add(Lambda(standardize,input_shape=(28,28,1)))\n",
    "# model.add(Flatten())\n",
    "# model.add(Dense(10, activation='softmax'))\n",
    "# print(\"input shape \",model.input_shape)\n",
    "# print(\"output shape \",model.output_shape)"
   ]
  },
  {
   "cell_type": "code",
   "execution_count": 81,
   "metadata": {},
   "outputs": [
    {
     "name": "stderr",
     "output_type": "stream",
     "text": [
      "WARNING:absl:`lr` is deprecated in Keras optimizer, please use `learning_rate` or use the legacy optimizer, e.g.,tf.keras.optimizers.legacy.RMSprop.\n"
     ]
    }
   ],
   "source": [
    "from keras.optimizers import RMSprop\n",
    "# check other optimizers (like Adam)\n",
    "model.compile(optimizer=RMSprop(lr=0.001), # 0.001 = default learning rate\n",
    " loss='categorical_crossentropy',\n",
    " metrics=['accuracy'])\n",
    "\n",
    "#model.compile(optimizer='adam', loss='categorical_crossentropy', metrics=['accuracy'])"
   ]
  },
  {
   "cell_type": "code",
   "execution_count": 82,
   "metadata": {},
   "outputs": [],
   "source": [
    "# data augmentation\n",
    "from keras.preprocessing import image\n",
    "gen = image.ImageDataGenerator()\n",
    "gen = ImageDataGenerator(\n",
    "        #rotation_range=10,\n",
    "        #zoom_range=0.1,\n",
    "        rotation_range=3,\n",
    "        zoom_range=0.1,\n",
    "        #zoom_range=[0.85,1.15],\n",
    "        #brightness_range=[0.7,1.3],\n",
    "        width_shift_range=0.05,\n",
    "        height_shift_range=0.05\n",
    "        )"
   ]
  },
  {
   "cell_type": "code",
   "execution_count": 83,
   "metadata": {},
   "outputs": [
    {
     "data": {
      "text/plain": [
       "((42000, 28, 28, 1),\n",
       " (42000, 10),\n",
       " (33600, 28, 28, 1),\n",
       " (8400, 28, 28, 1),\n",
       " (33600, 10),\n",
       " (8400, 10))"
      ]
     },
     "execution_count": 83,
     "metadata": {},
     "output_type": "execute_result"
    }
   ],
   "source": [
    "from sklearn.model_selection import train_test_split\n",
    "X = X_train\n",
    "y = y_train\n",
    "X_train, X_val, y_train, y_val = train_test_split(X_train, y_train, test_size=0.2, random_state=42)\n",
    "#batches = gen.flow(X_train, y_train, batch_size=64)\n",
    "#val_batches=gen.flow(X_val, y_val, batch_size=64)\n",
    "train_gen = gen.flow(X_train, y_train, batch_size=64)\n",
    "#train_gen_all = gen.flow(X, y, batch_size=64)\n",
    "X.shape, y.shape, X_train.shape, X_val.shape, y_train.shape, y_val.shape"
   ]
  },
  {
   "cell_type": "code",
   "execution_count": 84,
   "metadata": {
    "scrolled": true
   },
   "outputs": [
    {
     "name": "stdout",
     "output_type": "stream",
     "text": [
      "Epoch 1/100\n",
      "525/525 [==============================] - 174s 328ms/step - loss: 0.2735 - accuracy: 0.9149 - val_loss: 0.0639 - val_accuracy: 0.9825\n",
      "Epoch 2/100\n",
      "525/525 [==============================] - 169s 322ms/step - loss: 0.0844 - accuracy: 0.9734 - val_loss: 0.0722 - val_accuracy: 0.9793\n",
      "Epoch 3/100\n",
      "525/525 [==============================] - 172s 327ms/step - loss: 0.0632 - accuracy: 0.9808 - val_loss: 0.0309 - val_accuracy: 0.9902\n",
      "Epoch 4/100\n",
      "525/525 [==============================] - 175s 333ms/step - loss: 0.0534 - accuracy: 0.9836 - val_loss: 0.0412 - val_accuracy: 0.9870\n",
      "Epoch 5/100\n",
      "525/525 [==============================] - 173s 330ms/step - loss: 0.0469 - accuracy: 0.9861 - val_loss: 0.0440 - val_accuracy: 0.9890\n",
      "Epoch 6/100\n",
      "525/525 [==============================] - 173s 330ms/step - loss: 0.0399 - accuracy: 0.9884 - val_loss: 0.0286 - val_accuracy: 0.9915\n",
      "Epoch 7/100\n",
      "525/525 [==============================] - 173s 330ms/step - loss: 0.0377 - accuracy: 0.9886 - val_loss: 0.0341 - val_accuracy: 0.9905\n",
      "Epoch 8/100\n",
      "525/525 [==============================] - 173s 330ms/step - loss: 0.0355 - accuracy: 0.9898 - val_loss: 0.0207 - val_accuracy: 0.9930\n",
      "Epoch 9/100\n",
      "525/525 [==============================] - 173s 330ms/step - loss: 0.0327 - accuracy: 0.9900 - val_loss: 0.0240 - val_accuracy: 0.9936\n",
      "Epoch 10/100\n",
      "525/525 [==============================] - 175s 333ms/step - loss: 0.0293 - accuracy: 0.9915 - val_loss: 0.0267 - val_accuracy: 0.9920\n",
      "Epoch 11/100\n",
      "525/525 [==============================] - 172s 328ms/step - loss: 0.0281 - accuracy: 0.9916 - val_loss: 0.0270 - val_accuracy: 0.9920\n",
      "Epoch 12/100\n",
      "525/525 [==============================] - 173s 330ms/step - loss: 0.0285 - accuracy: 0.9916 - val_loss: 0.0180 - val_accuracy: 0.9945\n",
      "Epoch 13/100\n",
      "525/525 [==============================] - 174s 331ms/step - loss: 0.0274 - accuracy: 0.9914 - val_loss: 0.0246 - val_accuracy: 0.9929\n",
      "Epoch 14/100\n",
      "525/525 [==============================] - 173s 330ms/step - loss: 0.0262 - accuracy: 0.9925 - val_loss: 0.0188 - val_accuracy: 0.9945\n",
      "Epoch 15/100\n",
      "525/525 [==============================] - 173s 330ms/step - loss: 0.0248 - accuracy: 0.9929 - val_loss: 0.0321 - val_accuracy: 0.9912\n",
      "Epoch 16/100\n",
      "525/525 [==============================] - 173s 329ms/step - loss: 0.0222 - accuracy: 0.9933 - val_loss: 0.0266 - val_accuracy: 0.9926\n",
      "Epoch 17/100\n",
      "525/525 [==============================] - 173s 330ms/step - loss: 0.0205 - accuracy: 0.9939 - val_loss: 0.0226 - val_accuracy: 0.9939\n",
      "Epoch 18/100\n",
      "525/525 [==============================] - 174s 331ms/step - loss: 0.0219 - accuracy: 0.9936 - val_loss: 0.0193 - val_accuracy: 0.9943\n",
      "Epoch 19/100\n",
      "525/525 [==============================] - 173s 330ms/step - loss: 0.0201 - accuracy: 0.9941 - val_loss: 0.0245 - val_accuracy: 0.9932\n",
      "Epoch 20/100\n",
      "525/525 [==============================] - 174s 332ms/step - loss: 0.0203 - accuracy: 0.9946 - val_loss: 0.0243 - val_accuracy: 0.9936\n",
      "Epoch 21/100\n",
      "525/525 [==============================] - 173s 330ms/step - loss: 0.0190 - accuracy: 0.9947 - val_loss: 0.0229 - val_accuracy: 0.9944\n",
      "Epoch 22/100\n",
      "525/525 [==============================] - 173s 330ms/step - loss: 0.0214 - accuracy: 0.9938 - val_loss: 0.0195 - val_accuracy: 0.9948\n",
      "Epoch 23/100\n",
      "525/525 [==============================] - 174s 331ms/step - loss: 0.0189 - accuracy: 0.9944 - val_loss: 0.0187 - val_accuracy: 0.9951\n",
      "Epoch 24/100\n",
      "525/525 [==============================] - 173s 330ms/step - loss: 0.0186 - accuracy: 0.9946 - val_loss: 0.0205 - val_accuracy: 0.9948\n",
      "Epoch 25/100\n",
      "525/525 [==============================] - 173s 329ms/step - loss: 0.0165 - accuracy: 0.9950 - val_loss: 0.0213 - val_accuracy: 0.9956\n",
      "Epoch 26/100\n",
      "525/525 [==============================] - 173s 330ms/step - loss: 0.0174 - accuracy: 0.9947 - val_loss: 0.0277 - val_accuracy: 0.9932\n",
      "Epoch 27/100\n",
      "525/525 [==============================] - 174s 331ms/step - loss: 0.0173 - accuracy: 0.9952 - val_loss: 0.0240 - val_accuracy: 0.9939\n",
      "Epoch 28/100\n",
      "525/525 [==============================] - 172s 328ms/step - loss: 0.0164 - accuracy: 0.9953 - val_loss: 0.0258 - val_accuracy: 0.9938\n",
      "Epoch 29/100\n",
      "525/525 [==============================] - 174s 331ms/step - loss: 0.0161 - accuracy: 0.9952 - val_loss: 0.0256 - val_accuracy: 0.9935\n",
      "Epoch 30/100\n",
      "525/525 [==============================] - 173s 329ms/step - loss: 0.0170 - accuracy: 0.9946 - val_loss: 0.0232 - val_accuracy: 0.9943\n",
      "Epoch 31/100\n",
      "525/525 [==============================] - 173s 329ms/step - loss: 0.0135 - accuracy: 0.9964 - val_loss: 0.0261 - val_accuracy: 0.9936\n",
      "Epoch 32/100\n",
      "525/525 [==============================] - 173s 329ms/step - loss: 0.0145 - accuracy: 0.9958 - val_loss: 0.0213 - val_accuracy: 0.9943\n",
      "Epoch 33/100\n",
      "525/525 [==============================] - 173s 330ms/step - loss: 0.0133 - accuracy: 0.9964 - val_loss: 0.0221 - val_accuracy: 0.9954\n",
      "Epoch 34/100\n",
      "525/525 [==============================] - 175s 332ms/step - loss: 0.0148 - accuracy: 0.9958 - val_loss: 0.0259 - val_accuracy: 0.9945\n",
      "Epoch 35/100\n",
      "525/525 [==============================] - 173s 330ms/step - loss: 0.0161 - accuracy: 0.9956 - val_loss: 0.0280 - val_accuracy: 0.9940\n",
      "Epoch 36/100\n",
      "525/525 [==============================] - 172s 328ms/step - loss: 0.0140 - accuracy: 0.9959 - val_loss: 0.0219 - val_accuracy: 0.9950\n",
      "Epoch 37/100\n",
      "525/525 [==============================] - 173s 330ms/step - loss: 0.0128 - accuracy: 0.9960 - val_loss: 0.0200 - val_accuracy: 0.9944\n",
      "Epoch 38/100\n",
      "525/525 [==============================] - 173s 330ms/step - loss: 0.0130 - accuracy: 0.9964 - val_loss: 0.0246 - val_accuracy: 0.9942\n",
      "Epoch 39/100\n",
      "525/525 [==============================] - 173s 329ms/step - loss: 0.0129 - accuracy: 0.9965 - val_loss: 0.0205 - val_accuracy: 0.9950\n",
      "Epoch 40/100\n",
      "525/525 [==============================] - 171s 326ms/step - loss: 0.0143 - accuracy: 0.9960 - val_loss: 0.0183 - val_accuracy: 0.9952\n",
      "Epoch 41/100\n",
      "525/525 [==============================] - 176s 334ms/step - loss: 0.0125 - accuracy: 0.9964 - val_loss: 0.0247 - val_accuracy: 0.9940\n",
      "Epoch 42/100\n",
      "525/525 [==============================] - 173s 330ms/step - loss: 0.0119 - accuracy: 0.9962 - val_loss: 0.0248 - val_accuracy: 0.9942\n",
      "Epoch 43/100\n",
      "525/525 [==============================] - 174s 332ms/step - loss: 0.0141 - accuracy: 0.9960 - val_loss: 0.0184 - val_accuracy: 0.9948\n",
      "Epoch 44/100\n",
      "525/525 [==============================] - 175s 333ms/step - loss: 0.0134 - accuracy: 0.9960 - val_loss: 0.0201 - val_accuracy: 0.9950\n",
      "Epoch 45/100\n",
      "525/525 [==============================] - 189s 360ms/step - loss: 0.0113 - accuracy: 0.9969 - val_loss: 0.0218 - val_accuracy: 0.9954\n",
      "Epoch 46/100\n",
      "525/525 [==============================] - 187s 356ms/step - loss: 0.0110 - accuracy: 0.9967 - val_loss: 0.0231 - val_accuracy: 0.9940\n",
      "Epoch 47/100\n",
      "525/525 [==============================] - 188s 357ms/step - loss: 0.0114 - accuracy: 0.9970 - val_loss: 0.0260 - val_accuracy: 0.9949\n",
      "Epoch 48/100\n",
      "525/525 [==============================] - 174s 331ms/step - loss: 0.0123 - accuracy: 0.9962 - val_loss: 0.0227 - val_accuracy: 0.9954\n",
      "Epoch 49/100\n",
      "525/525 [==============================] - 173s 329ms/step - loss: 0.0104 - accuracy: 0.9968 - val_loss: 0.0243 - val_accuracy: 0.9951\n",
      "Epoch 50/100\n",
      "525/525 [==============================] - 172s 328ms/step - loss: 0.0109 - accuracy: 0.9971 - val_loss: 0.0228 - val_accuracy: 0.9951\n",
      "Epoch 51/100\n",
      "525/525 [==============================] - 172s 328ms/step - loss: 0.0113 - accuracy: 0.9967 - val_loss: 0.0276 - val_accuracy: 0.9940\n",
      "Epoch 52/100\n",
      "525/525 [==============================] - 172s 327ms/step - loss: 0.0094 - accuracy: 0.9970 - val_loss: 0.0204 - val_accuracy: 0.9956\n",
      "Epoch 53/100\n",
      "525/525 [==============================] - 171s 326ms/step - loss: 0.0121 - accuracy: 0.9966 - val_loss: 0.0214 - val_accuracy: 0.9952\n",
      "Epoch 54/100\n",
      "525/525 [==============================] - 172s 327ms/step - loss: 0.0111 - accuracy: 0.9966 - val_loss: 0.0272 - val_accuracy: 0.9943\n",
      "Epoch 55/100\n",
      "525/525 [==============================] - 171s 326ms/step - loss: 0.0118 - accuracy: 0.9961 - val_loss: 0.0255 - val_accuracy: 0.9948\n",
      "Epoch 56/100\n"
     ]
    },
    {
     "name": "stdout",
     "output_type": "stream",
     "text": [
      "525/525 [==============================] - 170s 325ms/step - loss: 0.0120 - accuracy: 0.9968 - val_loss: 0.0252 - val_accuracy: 0.9943\n",
      "Epoch 57/100\n",
      "525/525 [==============================] - 171s 325ms/step - loss: 0.0106 - accuracy: 0.9972 - val_loss: 0.0283 - val_accuracy: 0.9939\n",
      "Epoch 58/100\n",
      "525/525 [==============================] - 170s 323ms/step - loss: 0.0093 - accuracy: 0.9973 - val_loss: 0.0261 - val_accuracy: 0.9950\n",
      "Epoch 59/100\n",
      "525/525 [==============================] - 170s 324ms/step - loss: 0.0105 - accuracy: 0.9970 - val_loss: 0.0282 - val_accuracy: 0.9945\n",
      "Epoch 60/100\n",
      "525/525 [==============================] - 170s 324ms/step - loss: 0.0100 - accuracy: 0.9971 - val_loss: 0.0239 - val_accuracy: 0.9944\n",
      "Epoch 61/100\n",
      "525/525 [==============================] - 171s 325ms/step - loss: 0.0098 - accuracy: 0.9974 - val_loss: 0.0225 - val_accuracy: 0.9946\n",
      "Epoch 62/100\n",
      "525/525 [==============================] - 171s 326ms/step - loss: 0.0109 - accuracy: 0.9969 - val_loss: 0.0291 - val_accuracy: 0.9940\n",
      "Epoch 63/100\n",
      "525/525 [==============================] - 170s 324ms/step - loss: 0.0085 - accuracy: 0.9974 - val_loss: 0.0293 - val_accuracy: 0.9943\n",
      "Epoch 64/100\n",
      "525/525 [==============================] - 192s 366ms/step - loss: 0.0099 - accuracy: 0.9974 - val_loss: 0.0232 - val_accuracy: 0.9956\n",
      "Epoch 65/100\n",
      "525/525 [==============================] - 187s 356ms/step - loss: 0.0098 - accuracy: 0.9974 - val_loss: 0.0211 - val_accuracy: 0.9954\n",
      "Epoch 66/100\n",
      "525/525 [==============================] - 180s 342ms/step - loss: 0.0092 - accuracy: 0.9974 - val_loss: 0.0245 - val_accuracy: 0.9954\n",
      "Epoch 67/100\n",
      "525/525 [==============================] - 183s 348ms/step - loss: 0.0095 - accuracy: 0.9975 - val_loss: 0.0229 - val_accuracy: 0.9952\n",
      "Epoch 68/100\n",
      "525/525 [==============================] - 196s 374ms/step - loss: 0.0090 - accuracy: 0.9974 - val_loss: 0.0206 - val_accuracy: 0.9946\n",
      "Epoch 69/100\n",
      "525/525 [==============================] - 219s 418ms/step - loss: 0.0091 - accuracy: 0.9974 - val_loss: 0.0239 - val_accuracy: 0.9946\n",
      "Epoch 70/100\n",
      "525/525 [==============================] - 213s 405ms/step - loss: 0.0095 - accuracy: 0.9974 - val_loss: 0.0273 - val_accuracy: 0.9942\n",
      "Epoch 71/100\n",
      "525/525 [==============================] - 225s 429ms/step - loss: 0.0095 - accuracy: 0.9975 - val_loss: 0.0265 - val_accuracy: 0.9948\n",
      "Epoch 72/100\n",
      "525/525 [==============================] - 238s 453ms/step - loss: 0.0104 - accuracy: 0.9972 - val_loss: 0.0244 - val_accuracy: 0.9948\n",
      "Epoch 73/100\n",
      "525/525 [==============================] - 203s 387ms/step - loss: 0.0098 - accuracy: 0.9974 - val_loss: 0.0273 - val_accuracy: 0.9939\n",
      "Epoch 74/100\n",
      "525/525 [==============================] - 189s 360ms/step - loss: 0.0096 - accuracy: 0.9971 - val_loss: 0.0310 - val_accuracy: 0.9940\n",
      "Epoch 75/100\n",
      "525/525 [==============================] - 194s 370ms/step - loss: 0.0071 - accuracy: 0.9980 - val_loss: 0.0252 - val_accuracy: 0.9945\n",
      "Epoch 76/100\n",
      "525/525 [==============================] - 199s 379ms/step - loss: 0.0080 - accuracy: 0.9974 - val_loss: 0.0292 - val_accuracy: 0.9937\n",
      "Epoch 77/100\n",
      "525/525 [==============================] - 210s 400ms/step - loss: 0.0085 - accuracy: 0.9973 - val_loss: 0.0264 - val_accuracy: 0.9942\n",
      "Epoch 78/100\n",
      "525/525 [==============================] - 229s 436ms/step - loss: 0.0074 - accuracy: 0.9975 - val_loss: 0.0248 - val_accuracy: 0.9940\n",
      "Epoch 79/100\n",
      "525/525 [==============================] - 213s 405ms/step - loss: 0.0102 - accuracy: 0.9975 - val_loss: 0.0295 - val_accuracy: 0.9942\n",
      "Epoch 80/100\n",
      "525/525 [==============================] - 198s 376ms/step - loss: 0.0085 - accuracy: 0.9978 - val_loss: 0.0263 - val_accuracy: 0.9949\n",
      "Epoch 81/100\n",
      "525/525 [==============================] - 205s 391ms/step - loss: 0.0080 - accuracy: 0.9977 - val_loss: 0.0223 - val_accuracy: 0.9948\n",
      "Epoch 82/100\n",
      "525/525 [==============================] - 175s 334ms/step - loss: 0.0075 - accuracy: 0.9975 - val_loss: 0.0224 - val_accuracy: 0.9946\n",
      "Epoch 83/100\n",
      "525/525 [==============================] - 175s 333ms/step - loss: 0.0095 - accuracy: 0.9973 - val_loss: 0.0310 - val_accuracy: 0.9935\n",
      "Epoch 84/100\n",
      "525/525 [==============================] - 176s 335ms/step - loss: 0.0076 - accuracy: 0.9976 - val_loss: 0.0287 - val_accuracy: 0.9944\n",
      "Epoch 85/100\n",
      "525/525 [==============================] - 188s 357ms/step - loss: 0.0080 - accuracy: 0.9977 - val_loss: 0.0300 - val_accuracy: 0.9946\n",
      "Epoch 86/100\n",
      "525/525 [==============================] - 179s 341ms/step - loss: 0.0074 - accuracy: 0.9979 - val_loss: 0.0318 - val_accuracy: 0.9942\n",
      "Epoch 87/100\n",
      "525/525 [==============================] - 176s 335ms/step - loss: 0.0089 - accuracy: 0.9975 - val_loss: 0.0258 - val_accuracy: 0.9950\n",
      "Epoch 88/100\n",
      "525/525 [==============================] - 172s 328ms/step - loss: 0.0080 - accuracy: 0.9976 - val_loss: 0.0249 - val_accuracy: 0.9946\n",
      "Epoch 89/100\n",
      "525/525 [==============================] - 174s 332ms/step - loss: 0.0054 - accuracy: 0.9982 - val_loss: 0.0299 - val_accuracy: 0.9948\n",
      "Epoch 90/100\n",
      "525/525 [==============================] - 176s 335ms/step - loss: 0.0074 - accuracy: 0.9979 - val_loss: 0.0312 - val_accuracy: 0.9943\n",
      "Epoch 91/100\n",
      "525/525 [==============================] - 175s 334ms/step - loss: 0.0069 - accuracy: 0.9981 - val_loss: 0.0312 - val_accuracy: 0.9940\n",
      "Epoch 92/100\n",
      "525/525 [==============================] - 177s 337ms/step - loss: 0.0068 - accuracy: 0.9981 - val_loss: 0.0314 - val_accuracy: 0.9942\n",
      "Epoch 93/100\n",
      "525/525 [==============================] - 171s 326ms/step - loss: 0.0068 - accuracy: 0.9983 - val_loss: 0.0267 - val_accuracy: 0.9944\n",
      "Epoch 94/100\n",
      "525/525 [==============================] - 174s 331ms/step - loss: 0.0060 - accuracy: 0.9983 - val_loss: 0.0334 - val_accuracy: 0.9943\n",
      "Epoch 95/100\n",
      "525/525 [==============================] - 172s 328ms/step - loss: 0.0060 - accuracy: 0.9983 - val_loss: 0.0350 - val_accuracy: 0.9944\n",
      "Epoch 96/100\n",
      "525/525 [==============================] - 172s 329ms/step - loss: 0.0081 - accuracy: 0.9980 - val_loss: 0.0356 - val_accuracy: 0.9937\n",
      "Epoch 97/100\n",
      "525/525 [==============================] - 173s 329ms/step - loss: 0.0090 - accuracy: 0.9976 - val_loss: 0.0283 - val_accuracy: 0.9950\n",
      "Epoch 98/100\n",
      "525/525 [==============================] - 177s 338ms/step - loss: 0.0062 - accuracy: 0.9984 - val_loss: 0.0261 - val_accuracy: 0.9950\n",
      "Epoch 99/100\n",
      "525/525 [==============================] - 174s 331ms/step - loss: 0.0060 - accuracy: 0.9980 - val_loss: 0.0301 - val_accuracy: 0.9945\n",
      "Epoch 100/100\n",
      "525/525 [==============================] - 179s 341ms/step - loss: 0.0081 - accuracy: 0.9981 - val_loss: 0.0365 - val_accuracy: 0.9943\n"
     ]
    }
   ],
   "source": [
    "history = model.fit(train_gen, epochs=100, validation_data = (X_val, y_val), verbose=1)\n",
    "#history = model.fit(train_gen_all, epochs=5, verbose=1)\n",
    "\n",
    "\n",
    "# history=model.fit(generator=batches, steps_per_epoch=len(X_train)//64, epochs=5, \n",
    "#                     validation_data=val_batches, validation_steps=val_batches.n)"
   ]
  },
  {
   "cell_type": "code",
   "execution_count": 86,
   "metadata": {},
   "outputs": [],
   "source": [
    "model.save('model2a_100epochs.keras')"
   ]
  },
  {
   "cell_type": "code",
   "execution_count": 87,
   "metadata": {},
   "outputs": [
    {
     "data": {
      "image/png": "[encoded data removed]",
      "text/plain": [
       "<Figure size 640x480 with 2 Axes>"
      ]
     },
     "metadata": {},
     "output_type": "display_data"
    }
   ],
   "source": [
    "# Evaluate the model\n",
    "fig, ax = plt.subplots(2,1)\n",
    "ax[0].plot(history.history['loss'], color='b', label=\"Training loss\")\n",
    "ax[0].plot(history.history['val_loss'], color='r', label=\"validation loss\",axes =ax[0])\n",
    "legend = ax[0].legend(loc='best', shadow=True)\n",
    "\n",
    "ax[1].plot(history.history['accuracy'], color='b', label=\"Training accuracy\")\n",
    "ax[1].plot(history.history['val_accuracy'], color='r',label=\"Validation accuracy\")\n",
    "legend = ax[1].legend(loc='best', shadow=True)"
   ]
  },
  {
   "cell_type": "code",
   "execution_count": 20,
   "metadata": {},
   "outputs": [],
   "source": [
    "#model.summary()"
   ]
  },
  {
   "cell_type": "code",
   "execution_count": 230,
   "metadata": {},
   "outputs": [],
   "source": [
    "# history_dict = history.history\n",
    "# history_dict.keys()"
   ]
  },
  {
   "cell_type": "code",
   "execution_count": 140,
   "metadata": {},
   "outputs": [],
   "source": [
    "#history_dict['val_loss']"
   ]
  },
  {
   "cell_type": "code",
   "execution_count": 232,
   "metadata": {},
   "outputs": [],
   "source": [
    "# import matplotlib.pyplot as plt\n",
    "# %matplotlib inline\n",
    "# loss_values = history_dict['loss']\n",
    "# val_loss_values = history_dict['val_loss']\n",
    "# epochs = range(1, len(loss_values) + 1)\n",
    "\n",
    "# # \"bo\" is for \"blue dot\"\n",
    "# plt.plot(epochs, loss_values, 'bo')\n",
    "# # b+ is for \"blue crosses\"\n",
    "# plt.plot(epochs, val_loss_values, 'b+')\n",
    "# plt.xlabel('Epochs')\n",
    "# plt.ylabel('Loss')\n",
    "\n",
    "# plt.show()"
   ]
  },
  {
   "cell_type": "code",
   "execution_count": 231,
   "metadata": {},
   "outputs": [],
   "source": [
    "# plt.clf()   # clear figure\n",
    "# acc_values = history_dict['accuracy']\n",
    "# val_acc_values = history_dict['val_accuracy']\n",
    "\n",
    "# plt.plot(epochs, acc_values, 'bo')\n",
    "# plt.plot(epochs, val_acc_values, 'b+')\n",
    "# plt.xlabel('Epochs')\n",
    "# plt.ylabel('Accuracy')\n",
    "\n",
    "# plt.show()"
   ]
  },
  {
   "cell_type": "code",
   "execution_count": 25,
   "metadata": {},
   "outputs": [],
   "source": [
    "# def get_fc_model():\n",
    "#     model = Sequential([\n",
    "#         Lambda(standardize, input_shape=(28,28,1)),\n",
    "#         Flatten(),\n",
    "#         Dense(512, activation='relu'),\n",
    "#         Dense(10, activation='softmax')\n",
    "#         ])\n",
    "#     model.compile(optimizer='Adam', loss='categorical_crossentropy',\n",
    "#                   metrics=['accuracy'])\n",
    "#     return model"
   ]
  },
  {
   "cell_type": "code",
   "execution_count": null,
   "metadata": {},
   "outputs": [],
   "source": [
    "# fc = get_fc_model()\n",
    "# fc.optimizer.lr=0.01"
   ]
  },
  {
   "cell_type": "code",
   "execution_count": null,
   "metadata": {},
   "outputs": [],
   "source": [
    "# history=fc.fit_generator(generator=batches, steps_per_epoch=len(X_train)//64, epochs=10, \n",
    "#                     validation_data=val_batches, validation_steps=val_batches.n)"
   ]
  },
  {
   "cell_type": "code",
   "execution_count": null,
   "metadata": {},
   "outputs": [],
   "source": [
    "# from keras.layers import Convolution2D, MaxPooling2D\n",
    "\n",
    "# def get_cnn_model():\n",
    "#     model = Sequential([\n",
    "#         Lambda(standardize, input_shape=(28,28,1)),\n",
    "#         Convolution2D(32,(3,3), activation='relu'),\n",
    "#         Convolution2D(32,(3,3), activation='relu'),\n",
    "#         MaxPooling2D(),\n",
    "#         Convolution2D(64,(3,3), activation='relu'),\n",
    "#         Convolution2D(64,(3,3), activation='relu'),\n",
    "#         MaxPooling2D(),\n",
    "#         Flatten(),\n",
    "#         Dense(512, activation='relu'),\n",
    "#         Dense(10, activation='softmax')\n",
    "#         ])\n",
    "#     model.compile(Adam(), loss='categorical_crossentropy',\n",
    "#                   metrics=['accuracy'])\n",
    "#     return model"
   ]
  },
  {
   "cell_type": "code",
   "execution_count": null,
   "metadata": {},
   "outputs": [],
   "source": [
    "# model= get_cnn_model()\n",
    "# model.optimizer.lr=0.01"
   ]
  },
  {
   "cell_type": "code",
   "execution_count": null,
   "metadata": {},
   "outputs": [],
   "source": [
    "# history=model.fit_generator(generator=batches, steps_per_epoch=len(X_train)//64, epochs=10, \n",
    "#                     validation_data=val_batches, validation_steps=val_batches.n)"
   ]
  },
  {
   "cell_type": "code",
   "execution_count": null,
   "metadata": {},
   "outputs": [],
   "source": [
    "# gen =ImageDataGenerator(rotation_range=8, width_shift_range=0.08, shear_range=0.3,\n",
    "#                                height_shift_range=0.08, zoom_range=0.08)\n",
    "# batches = gen.flow(X_train, y_train, batch_size=64)\n",
    "# val_batches = gen.flow(X_val, y_val, batch_size=64)"
   ]
  },
  {
   "cell_type": "code",
   "execution_count": null,
   "metadata": {},
   "outputs": [],
   "source": [
    "# model.optimizer.lr=0.001\n",
    "# history=model.fit_generator(generator=batches, steps_per_epoch=len(X_train)//64, epochs=10, \n",
    "#                     validation_data=val_batches, validation_steps=val_batches.n)"
   ]
  },
  {
   "cell_type": "code",
   "execution_count": null,
   "metadata": {},
   "outputs": [],
   "source": [
    "# x_val = x_train[:10000]\n",
    "# partial_x_train = x_train[10000:]\n",
    "\n",
    "# y_val = y_train[:10000]\n",
    "# partial_y_train = y_train[10000:]\n",
    "\n",
    "# history = model.fit(partial_x_train,\n",
    "#                     partial_y_train,\n",
    "#                     epochs=10,\n",
    "#                     batch_size=64,\n",
    "#                     validation_data=(x_val, y_val),\n",
    "#                     verbose=1)"
   ]
  },
  {
   "cell_type": "code",
   "execution_count": 108,
   "metadata": {},
   "outputs": [],
   "source": [
    "# from keras.layers import BatchNormalization\n",
    "\n",
    "# def get_bn_model():\n",
    "#     model = Sequential([\n",
    "#         Lambda(standardize, input_shape=(28,28,1)),\n",
    "#         Convolution2D(32,(3,3), activation='relu'),\n",
    "#         BatchNormalization(axis=1),\n",
    "#         Convolution2D(32,(3,3), activation='relu'),\n",
    "#         MaxPooling2D(),\n",
    "#         BatchNormalization(axis=1),\n",
    "#         Convolution2D(64,(3,3), activation='relu'),\n",
    "#         BatchNormalization(axis=1),\n",
    "#         Convolution2D(64,(3,3), activation='relu'),\n",
    "#         MaxPooling2D(),\n",
    "#         Flatten(),\n",
    "#         BatchNormalization(),\n",
    "#         Dense(512, activation='relu'),\n",
    "#         BatchNormalization(),\n",
    "#         Dense(10, activation='softmax')\n",
    "#         ])\n",
    "#     model.compile(Adam(), loss='categorical_crossentropy', metrics=['accuracy'])\n",
    "#     return model"
   ]
  },
  {
   "cell_type": "code",
   "execution_count": 39,
   "metadata": {},
   "outputs": [],
   "source": [
    "# model = get_bn_model()\n",
    "# model.optimizer.lr=0.01\n",
    "# history=model.fit(generator=train_gen, epochs=10, validation_data=(X_val, y_val), verbose=1)\n",
    "\n",
    "# history = model.fit(train_gen, epochs=50, validation_data = (X_val, y_val), verbose=1)"
   ]
  },
  {
   "cell_type": "code",
   "execution_count": 86,
   "metadata": {},
   "outputs": [],
   "source": [
    "# model.optimizer.lr=0.01\n",
    "# gen = image.ImageDataGenerator()\n",
    "# batches = gen.flow(X, y, batch_size=64)\n",
    "# history=model.fit(generator=batches, steps_per_epoch=len(X_train)//64, epochs=10)"
   ]
  },
  {
   "cell_type": "code",
   "execution_count": 88,
   "metadata": {},
   "outputs": [
    {
     "name": "stdout",
     "output_type": "stream",
     "text": [
      "1050/1050 [==============================] - 42s 40ms/step - loss: 7.8761e-04 - accuracy: 0.9997\n"
     ]
    },
    {
     "data": {
      "text/plain": [
       "[0.0007876052986830473, 0.9997321367263794]"
      ]
     },
     "execution_count": 88,
     "metadata": {},
     "output_type": "execute_result"
    }
   ],
   "source": [
    "model.evaluate(X_train, y_train)"
   ]
  },
  {
   "cell_type": "code",
   "execution_count": 89,
   "metadata": {},
   "outputs": [],
   "source": [
    "#model.evaluate(X, y)"
   ]
  },
  {
   "cell_type": "code",
   "execution_count": 90,
   "metadata": {},
   "outputs": [
    {
     "name": "stdout",
     "output_type": "stream",
     "text": [
      "875/875 [==============================] - 35s 40ms/step\n"
     ]
    }
   ],
   "source": [
    "predictions = model.predict(X_test)"
   ]
  },
  {
   "cell_type": "code",
   "execution_count": 91,
   "metadata": {},
   "outputs": [],
   "source": [
    "predictions = pd.DataFrame(predictions)"
   ]
  },
  {
   "cell_type": "code",
   "execution_count": 92,
   "metadata": {},
   "outputs": [
    {
     "data": {
      "text/html": [
       "<div>\n",
       "<style scoped>\n",
       "    .dataframe tbody tr th:only-of-type {\n",
       "        vertical-align: middle;\n",
       "    }\n",
       "\n",
       "    .dataframe tbody tr th {\n",
       "        vertical-align: top;\n",
       "    }\n",
       "\n",
       "    .dataframe thead th {\n",
       "        text-align: right;\n",
       "    }\n",
       "</style>\n",
       "<table border=\"1\" class=\"dataframe\">\n",
       "  <thead>\n",
       "    <tr style=\"text-align: right;\">\n",
       "      <th></th>\n",
       "      <th>0</th>\n",
       "    </tr>\n",
       "  </thead>\n",
       "  <tbody>\n",
       "    <tr>\n",
       "      <th>0</th>\n",
       "      <td>2</td>\n",
       "    </tr>\n",
       "    <tr>\n",
       "      <th>1</th>\n",
       "      <td>0</td>\n",
       "    </tr>\n",
       "    <tr>\n",
       "      <th>2</th>\n",
       "      <td>9</td>\n",
       "    </tr>\n",
       "    <tr>\n",
       "      <th>3</th>\n",
       "      <td>0</td>\n",
       "    </tr>\n",
       "    <tr>\n",
       "      <th>4</th>\n",
       "      <td>3</td>\n",
       "    </tr>\n",
       "  </tbody>\n",
       "</table>\n",
       "</div>"
      ],
      "text/plain": [
       "   0\n",
       "0  2\n",
       "1  0\n",
       "2  9\n",
       "3  0\n",
       "4  3"
      ]
     },
     "execution_count": 92,
     "metadata": {},
     "output_type": "execute_result"
    }
   ],
   "source": [
    "result = np.argmax(predictions, axis=1)\n",
    "result = pd.DataFrame(result)\n",
    "result.head()"
   ]
  },
  {
   "cell_type": "code",
   "execution_count": 93,
   "metadata": {},
   "outputs": [
    {
     "data": {
      "text/html": [
       "<div>\n",
       "<style scoped>\n",
       "    .dataframe tbody tr th:only-of-type {\n",
       "        vertical-align: middle;\n",
       "    }\n",
       "\n",
       "    .dataframe tbody tr th {\n",
       "        vertical-align: top;\n",
       "    }\n",
       "\n",
       "    .dataframe thead th {\n",
       "        text-align: right;\n",
       "    }\n",
       "</style>\n",
       "<table border=\"1\" class=\"dataframe\">\n",
       "  <thead>\n",
       "    <tr style=\"text-align: right;\">\n",
       "      <th></th>\n",
       "      <th>ImageId</th>\n",
       "      <th>Label</th>\n",
       "    </tr>\n",
       "  </thead>\n",
       "  <tbody>\n",
       "    <tr>\n",
       "      <th>0</th>\n",
       "      <td>1</td>\n",
       "      <td>2</td>\n",
       "    </tr>\n",
       "    <tr>\n",
       "      <th>1</th>\n",
       "      <td>2</td>\n",
       "      <td>0</td>\n",
       "    </tr>\n",
       "    <tr>\n",
       "      <th>2</th>\n",
       "      <td>3</td>\n",
       "      <td>9</td>\n",
       "    </tr>\n",
       "    <tr>\n",
       "      <th>3</th>\n",
       "      <td>4</td>\n",
       "      <td>0</td>\n",
       "    </tr>\n",
       "    <tr>\n",
       "      <th>4</th>\n",
       "      <td>5</td>\n",
       "      <td>3</td>\n",
       "    </tr>\n",
       "    <tr>\n",
       "      <th>...</th>\n",
       "      <td>...</td>\n",
       "      <td>...</td>\n",
       "    </tr>\n",
       "    <tr>\n",
       "      <th>27995</th>\n",
       "      <td>27996</td>\n",
       "      <td>9</td>\n",
       "    </tr>\n",
       "    <tr>\n",
       "      <th>27996</th>\n",
       "      <td>27997</td>\n",
       "      <td>7</td>\n",
       "    </tr>\n",
       "    <tr>\n",
       "      <th>27997</th>\n",
       "      <td>27998</td>\n",
       "      <td>3</td>\n",
       "    </tr>\n",
       "    <tr>\n",
       "      <th>27998</th>\n",
       "      <td>27999</td>\n",
       "      <td>9</td>\n",
       "    </tr>\n",
       "    <tr>\n",
       "      <th>27999</th>\n",
       "      <td>28000</td>\n",
       "      <td>2</td>\n",
       "    </tr>\n",
       "  </tbody>\n",
       "</table>\n",
       "<p>28000 rows × 2 columns</p>\n",
       "</div>"
      ],
      "text/plain": [
       "       ImageId  Label\n",
       "0            1      2\n",
       "1            2      0\n",
       "2            3      9\n",
       "3            4      0\n",
       "4            5      3\n",
       "...        ...    ...\n",
       "27995    27996      9\n",
       "27996    27997      7\n",
       "27997    27998      3\n",
       "27998    27999      9\n",
       "27999    28000      2\n",
       "\n",
       "[28000 rows x 2 columns]"
      ]
     },
     "execution_count": 93,
     "metadata": {},
     "output_type": "execute_result"
    }
   ],
   "source": [
    "df_test = pd.read_csv('sample_submission.csv')\n",
    "df_test = pd.concat([df_test, result],axis=1)\n",
    "df_test = df_test.drop(columns=['Label'])\n",
    "df_test = df_test.rename(columns = {0:'Label'})\n",
    "df_test = df_test[['ImageId', 'Label']]\n",
    "df_test"
   ]
  },
  {
   "cell_type": "code",
   "execution_count": 94,
   "metadata": {},
   "outputs": [],
   "source": [
    "df_test.to_csv('Model2a_100epoch_acc_0.9943.csv', index=False)"
   ]
  },
  {
   "cell_type": "code",
   "execution_count": null,
   "metadata": {},
   "outputs": [],
   "source": []
  }
 ],
 "metadata": {
  "kernelspec": {
   "display_name": "Python 3 (ipykernel)",
   "language": "python",
   "name": "python3"
  },
  "language_info": {
   "codemirror_mode": {
    "name": "ipython",
    "version": 3
   },
   "file_extension": ".py",
   "mimetype": "text/x-python",
   "name": "python",
   "nbconvert_exporter": "python",
   "pygments_lexer": "ipython3",
   "version": "3.11.4"
  }
 },
 "nbformat": 4,
 "nbformat_minor": 2
}
