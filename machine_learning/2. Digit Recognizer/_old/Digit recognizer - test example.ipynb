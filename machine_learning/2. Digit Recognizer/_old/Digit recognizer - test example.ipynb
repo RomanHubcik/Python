{
 "cells": [
  {
   "cell_type": "code",
   "execution_count": 130,
   "metadata": {},
   "outputs": [],
   "source": [
    "import tensorflow as tf\n",
    "(x_train, y_train), (x_test, y_test) = tf.keras.datasets.mnist.load_data()"
   ]
  },
  {
   "cell_type": "code",
   "execution_count": 131,
   "metadata": {},
   "outputs": [
    {
     "name": "stdout",
     "output_type": "stream",
     "text": [
      "5\n"
     ]
    },
    {
     "data": {
      "text/plain": [
       "<matplotlib.image.AxesImage at 0x2711751bf98>"
      ]
     },
     "execution_count": 131,
     "metadata": {},
     "output_type": "execute_result"
    },
    {
     "data": {
      "image/png": "[encoded data removed]",
      "text/plain": [
       "<Figure size 432x288 with 1 Axes>"
      ]
     },
     "metadata": {
      "needs_background": "light"
     },
     "output_type": "display_data"
    }
   ],
   "source": [
    "import matplotlib.pyplot as plt\n",
    "%matplotlib inline \n",
    "image_index = 1206 \n",
    "print(y_train[image_index]) \n",
    "plt.imshow(x_train[image_index], cmap='Greys')"
   ]
  },
  {
   "cell_type": "code",
   "execution_count": 134,
   "metadata": {},
   "outputs": [
    {
     "data": {
      "text/plain": [
       "(60000, 28, 28)"
      ]
     },
     "execution_count": 134,
     "metadata": {},
     "output_type": "execute_result"
    }
   ],
   "source": [
    "x_train.shape"
   ]
  },
  {
   "cell_type": "code",
   "execution_count": 112,
   "metadata": {},
   "outputs": [
    {
     "name": "stdout",
     "output_type": "stream",
     "text": [
      "x_train shape: (60000, 28, 28, 1)\n",
      "Number of images in x_train 60000\n",
      "Number of images in x_test 10000\n"
     ]
    }
   ],
   "source": [
    "# Reshaping the array to 4-dims so that it can work with the Keras API\n",
    "x_train = x_train.reshape(x_train.shape[0], 28, 28, 1)\n",
    "x_test = x_test.reshape(x_test.shape[0], 28, 28, 1)\n",
    "input_shape = (28, 28, 1)\n",
    "# Making sure that the values are float so that we can get decimal points after division\n",
    "x_train = x_train.astype('float32')\n",
    "x_test = x_test.astype('float32')\n",
    "# Normalizing the RGB codes by dividing it to the max RGB value.\n",
    "x_train /= 255\n",
    "x_test /= 255\n",
    "print('x_train shape:', x_train.shape)\n",
    "print('Number of images in x_train', x_train.shape[0])\n",
    "print('Number of images in x_test', x_test.shape[0])"
   ]
  },
  {
   "cell_type": "code",
   "execution_count": 139,
   "metadata": {},
   "outputs": [
    {
     "data": {
      "text/plain": [
       "(10000, 28, 28)"
      ]
     },
     "execution_count": 139,
     "metadata": {},
     "output_type": "execute_result"
    }
   ],
   "source": [
    "x_test.shape"
   ]
  },
  {
   "cell_type": "code",
   "execution_count": 140,
   "metadata": {},
   "outputs": [
    {
     "data": {
      "text/plain": [
       "(10000,)"
      ]
     },
     "execution_count": 140,
     "metadata": {},
     "output_type": "execute_result"
    }
   ],
   "source": [
    "y_test.shape"
   ]
  },
  {
   "cell_type": "code",
   "execution_count": 114,
   "metadata": {},
   "outputs": [],
   "source": [
    "# Importing the required Keras modules containing model and layers\n",
    "from keras.models import Sequential\n",
    "from keras.layers import Dense, Conv2D, Dropout, Flatten, MaxPooling2D\n",
    "# Creating a Sequential Model and adding the layers\n",
    "model = Sequential()\n",
    "model.add(Conv2D(28, kernel_size=(3,3), input_shape=input_shape))\n",
    "model.add(MaxPooling2D(pool_size=(2, 2)))\n",
    "model.add(Flatten()) # Flattening the 2D arrays for fully connected layers\n",
    "model.add(Dense(128, activation=tf.nn.relu))\n",
    "model.add(Dropout(0.2))\n",
    "model.add(Dense(10,activation=tf.nn.softmax))"
   ]
  },
  {
   "cell_type": "code",
   "execution_count": 115,
   "metadata": {},
   "outputs": [
    {
     "name": "stdout",
     "output_type": "stream",
     "text": [
      "Epoch 1/10\n",
      "60000/60000 [==============================] - 95s 2ms/step - loss: 0.2103 - acc: 0.9369TA: 1:19 - loss: 0.4272 - acc:  - ETA: 1:19 - loss: 0.4208 - ac - ETA: 1:18 - loss: 0 - ETA: 1:15 - loss: 0.3986 - acc: - ETA:  -  - ETA: 1:07 - loss: 0.3554 - acc: 0.891 - ETA: 1:07 - loss: 0.3548 - acc:  - ETA: 1:07 - ETA: 8s - loss - ETA: 6s - loss - ETA: 4s - loss: 0.2144 - acc - ETA: 3s - los - ETA: 1s - loss: 0.2 - ETA: 0s - loss: 0.2104 - acc: 0.93\n",
      "Epoch 2/10\n",
      "60000/60000 [==============================] - 94s 2ms/step - loss: 0.0872 - acc: 0.9730: 6s - loss: 0.0883 - acc: 0. - ETA: 6s - loss: 0.0883 - acc: 0. - ETA: 5s - l - ETA: - ETA: 0s - loss: 0.0873 - a\n",
      "Epoch 3/10\n",
      "60000/60000 [==============================] - 94s 2ms/step - loss: 0.0608 - acc: 0.9804TA: 1:33 - loss: 0.0440 - ac -  - ETA: 1:29 - loss: 0.0 - ETA: 1:28 - loss: 0 - ETA: 1:26 - loss: 0.0657 - acc: 0.9 - ET\n",
      "Epoch 4/10\n",
      "60000/60000 [==============================] - 94s 2ms/step - loss: 0.0446 - acc: 0.9859\n",
      "Epoch 5/10\n",
      "60000/60000 [==============================] - 94s 2ms/step - loss: 0.0377 - acc: 0.9878: 6s - loss: 0.0372 - acc: 0. - ETA: 5s - loss: 0.0372  - ETA: 1s - loss: 0.0374 - acc: 0.9 - ETA: 1s - loss: 0.0374 -\n",
      "Epoch 6/10\n",
      "60000/60000 [==============================] - 94s 2ms/step - loss: 0.0298 - acc: 0.9900: - ETA: 1s - loss: 0.0299 - acc - ETA: 0s - loss: 0.0299 - acc: \n",
      "Epoch 7/10\n",
      "60000/60000 [==============================] - 94s 2ms/step - loss: 0.0262 - acc: 0.9905\n",
      "Epoch 8/10\n",
      "60000/60000 [==============================] - 94s 2ms/step - loss: 0.0215 - acc: 0.9926: 11s - loss:  - ETA:  - ETA: 8s - loss: 0.021\n",
      "Epoch 9/10\n",
      "60000/60000 [==============================] - 94s 2ms/step - loss: 0.0215 - acc: 0.9927TA: 1:33 - loss - ETA: 1:31 - loss: 0.0258 - - ETA: 1:29 - ETA: 1:27 - loss: 0.0201  - ETA: 1:26 - loss: 0.0219 - acc:  - ETA: 1:25 - ETA: 1:19 - loss: 0.0200 - - ETA: 1 - ETA: 1:15 - loss: 0.0197 - acc:  - ETA: 1:15 -  - ETA: 1:12 - loss: 0.0189 - acc: 0 - ETA:  - ETA: 1:09 - loss: 0.0181 - ETA: 1:04 - loss: 0.0178 - acc: 0. - ETA: 1: - ETA: 1:01 - loss: 0.018 - ETA: 58s - loss: 0.01 - ETA: 39s  - ETA: 36s -  - ETA: 33s - loss: 0.0217 - - ETA: 33s - loss: 0.0217 - acc:  - ETA: 32s - loss: 0. - ETA: 12s - loss: 0.0222 - acc:  - ETA: 12s - loss - ETA - ETA: 9 - ETA: 7s - loss: 0.0220 - acc: 0.9 - ETA: 6s - loss: 0.0219 -  - ETA: 5s - loss: 0.0218 -  - ETA: 4s - loss: 0.0217 - acc:  - ETA: - ETA: 1s - loss: 0.0215 - a - ETA: 0s - loss: 0.0215 - acc:\n",
      "Epoch 10/10\n",
      "60000/60000 [==============================] - 94s 2ms/step - loss: 0.0163 - acc: 0.9945: 48s - loss: 0.0134 - acc - ETA: 43s - lo - ETA: 41s - loss: 0. - ETA: 39s - loss: 0.0139 - ETA: 31s - loss: 0.0145 - - - ETA: 27s -  - ETA: 22s  - ETA: 21s - lo - ETA:  - ETA: 11s - loss: 0. - ETA: 11s -  - ETA: 9s - lo - ETA: 7s - loss: 0.0158 - acc: 0.9 - ETA: 7s - loss: 0.0157 - - ETA: 6s - loss: - ETA: 4s - loss: 0.0156 \n"
     ]
    },
    {
     "data": {
      "text/plain": [
       "<keras.callbacks.History at 0x271177ee048>"
      ]
     },
     "execution_count": 115,
     "metadata": {},
     "output_type": "execute_result"
    }
   ],
   "source": [
    "model.compile(optimizer='adam', \n",
    "              loss='sparse_categorical_crossentropy', \n",
    "              metrics=['accuracy'])\n",
    "model.fit(x=x_train,y=y_train, epochs=10)"
   ]
  },
  {
   "cell_type": "code",
   "execution_count": 116,
   "metadata": {},
   "outputs": [
    {
     "name": "stdout",
     "output_type": "stream",
     "text": [
      "10000/10000 [==============================] - 9s 897us/step\n"
     ]
    },
    {
     "data": {
      "text/plain": [
       "[0.05608759974873283, 0.9857]"
      ]
     },
     "execution_count": 116,
     "metadata": {},
     "output_type": "execute_result"
    }
   ],
   "source": [
    "model.evaluate(x_test, y_test)"
   ]
  },
  {
   "cell_type": "code",
   "execution_count": 141,
   "metadata": {},
   "outputs": [
    {
     "data": {
      "text/plain": [
       "(10000, 28, 28)"
      ]
     },
     "execution_count": 141,
     "metadata": {},
     "output_type": "execute_result"
    }
   ],
   "source": [
    "x_test.shape"
   ]
  },
  {
   "cell_type": "code",
   "execution_count": 129,
   "metadata": {},
   "outputs": [
    {
     "name": "stdout",
     "output_type": "stream",
     "text": [
      "Predicted image: 2\n",
      "Original image:  AxesImage(54,36;334.8x217.44)\n"
     ]
    },
    {
     "data": {
      "image/png": "[encoded data removed]",
      "text/plain": [
       "<Figure size 432x288 with 1 Axes>"
      ]
     },
     "metadata": {
      "needs_background": "light"
     },
     "output_type": "display_data"
    }
   ],
   "source": [
    "image_index = 4944\n",
    "pred = model.predict(x_test[image_index].reshape(1, 28, 28, 1))\n",
    "print(\"Predicted image:\", pred.argmax())\n",
    "print(\"Original image: \", plt.imshow(x_test[image_index].reshape(28, 28),cmap='Greys'))"
   ]
  },
  {
   "cell_type": "code",
   "execution_count": null,
   "metadata": {},
   "outputs": [],
   "source": []
  }
 ],
 "metadata": {
  "kernelspec": {
   "display_name": "Python 3",
   "language": "python",
   "name": "python3"
  },
  "language_info": {
   "codemirror_mode": {
    "name": "ipython",
    "version": 3
   },
   "file_extension": ".py",
   "mimetype": "text/x-python",
   "name": "python",
   "nbconvert_exporter": "python",
   "pygments_lexer": "ipython3",
   "version": "3.7.1"
  }
 },
 "nbformat": 4,
 "nbformat_minor": 2
}
